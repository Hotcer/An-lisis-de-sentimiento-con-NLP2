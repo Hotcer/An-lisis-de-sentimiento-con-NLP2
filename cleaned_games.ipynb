{
 "cells": [
  {
   "cell_type": "markdown",
   "metadata": {},
   "source": [
    "Extraccion transformacion y carga de archivo \"output_steam_games\""
   ]
  },
  {
   "cell_type": "code",
   "execution_count": 2,
   "metadata": {},
   "outputs": [],
   "source": [
    "import pandas as pd\n",
    "import json\n",
    "import pickle\n",
    "\n",
    "\n",
    "# from collections import Counter"
   ]
  },
  {
   "cell_type": "code",
   "execution_count": 2,
   "metadata": {},
   "outputs": [],
   "source": [
    "# Leer datos de JSON e importar en dataframe\n",
    "rows = []\n",
    "\n",
    "with open('output_steam_games.json', encoding='MacRoman') as f:\n",
    "    for line in f.readlines():\n",
    "        data = json.loads(line)\n",
    "        rows.append(data)\n",
    "\n",
    "df_games = pd.DataFrame(rows)"
   ]
  },
  {
   "cell_type": "code",
   "execution_count": 3,
   "metadata": {},
   "outputs": [
    {
     "data": {
      "text/html": [
       "<div>\n",
       "<style scoped>\n",
       "    .dataframe tbody tr th:only-of-type {\n",
       "        vertical-align: middle;\n",
       "    }\n",
       "\n",
       "    .dataframe tbody tr th {\n",
       "        vertical-align: top;\n",
       "    }\n",
       "\n",
       "    .dataframe thead th {\n",
       "        text-align: right;\n",
       "    }\n",
       "</style>\n",
       "<table border=\"1\" class=\"dataframe\">\n",
       "  <thead>\n",
       "    <tr style=\"text-align: right;\">\n",
       "      <th></th>\n",
       "      <th>publisher</th>\n",
       "      <th>genres</th>\n",
       "      <th>app_name</th>\n",
       "      <th>title</th>\n",
       "      <th>url</th>\n",
       "      <th>release_date</th>\n",
       "      <th>tags</th>\n",
       "      <th>reviews_url</th>\n",
       "      <th>specs</th>\n",
       "      <th>price</th>\n",
       "      <th>early_access</th>\n",
       "      <th>id</th>\n",
       "      <th>developer</th>\n",
       "    </tr>\n",
       "  </thead>\n",
       "  <tbody>\n",
       "    <tr>\n",
       "      <th>0</th>\n",
       "      <td>NaN</td>\n",
       "      <td>NaN</td>\n",
       "      <td>NaN</td>\n",
       "      <td>NaN</td>\n",
       "      <td>NaN</td>\n",
       "      <td>NaN</td>\n",
       "      <td>NaN</td>\n",
       "      <td>NaN</td>\n",
       "      <td>NaN</td>\n",
       "      <td>NaN</td>\n",
       "      <td>NaN</td>\n",
       "      <td>NaN</td>\n",
       "      <td>NaN</td>\n",
       "    </tr>\n",
       "  </tbody>\n",
       "</table>\n",
       "</div>"
      ],
      "text/plain": [
       "  publisher genres app_name title  url release_date tags reviews_url specs  \\\n",
       "0       NaN    NaN      NaN   NaN  NaN          NaN  NaN         NaN   NaN   \n",
       "\n",
       "  price early_access   id developer  \n",
       "0   NaN          NaN  NaN       NaN  "
      ]
     },
     "execution_count": 3,
     "metadata": {},
     "output_type": "execute_result"
    }
   ],
   "source": [
    "df_games.head(1)"
   ]
  },
  {
   "cell_type": "code",
   "execution_count": 4,
   "metadata": {},
   "outputs": [
    {
     "name": "stdout",
     "output_type": "stream",
     "text": [
      "<class 'pandas.core.frame.DataFrame'>\n",
      "RangeIndex: 120445 entries, 0 to 120444\n",
      "Data columns (total 13 columns):\n",
      " #   Column        Non-Null Count  Dtype \n",
      "---  ------        --------------  ----- \n",
      " 0   publisher     24083 non-null  object\n",
      " 1   genres        28852 non-null  object\n",
      " 2   app_name      32133 non-null  object\n",
      " 3   title         30085 non-null  object\n",
      " 4   url           32135 non-null  object\n",
      " 5   release_date  30068 non-null  object\n",
      " 6   tags          31972 non-null  object\n",
      " 7   reviews_url   32133 non-null  object\n",
      " 8   specs         31465 non-null  object\n",
      " 9   price         30758 non-null  object\n",
      " 10  early_access  32135 non-null  object\n",
      " 11  id            32133 non-null  object\n",
      " 12  developer     28836 non-null  object\n",
      "dtypes: object(13)\n",
      "memory usage: 11.9+ MB\n"
     ]
    }
   ],
   "source": [
    "# Información general del DataFrame, como tipos de datos y valores faltantes\n",
    "df_games.info()"
   ]
  },
  {
   "cell_type": "code",
   "execution_count": 5,
   "metadata": {},
   "outputs": [
    {
     "data": {
      "text/plain": [
       "publisher       96362\n",
       "genres          91593\n",
       "app_name        88312\n",
       "title           90360\n",
       "url             88310\n",
       "release_date    90377\n",
       "tags            88473\n",
       "reviews_url     88312\n",
       "specs           88980\n",
       "price           89687\n",
       "early_access    88310\n",
       "id              88312\n",
       "developer       91609\n",
       "dtype: int64"
      ]
     },
     "execution_count": 5,
     "metadata": {},
     "output_type": "execute_result"
    }
   ],
   "source": [
    "# Comprobando si hay valores nulos en el DataFrame\n",
    "df_games.isnull().sum()"
   ]
  },
  {
   "cell_type": "markdown",
   "metadata": {},
   "source": [
    "Con esta funcion descubrimos que todas las columnas tienen datos mixtos"
   ]
  },
  {
   "cell_type": "code",
   "execution_count": 6,
   "metadata": {},
   "outputs": [
    {
     "name": "stdout",
     "output_type": "stream",
     "text": [
      "publisher       mixed\n",
      "genres          mixed\n",
      "app_name        mixed\n",
      "title           mixed\n",
      "url             mixed\n",
      "release_date    mixed\n",
      "tags            mixed\n",
      "reviews_url     mixed\n",
      "specs           mixed\n",
      "price           mixed\n",
      "early_access    mixed\n",
      "id              mixed\n",
      "developer       mixed\n",
      "dtype: object\n"
     ]
    }
   ],
   "source": [
    "# Definir una función para determinar el tipo de datos de una columna\n",
    "def column_type(column):\n",
    "    # Obtener los tipos de datos únicos en la columna\n",
    "    unique_types = column.apply(type).unique()\n",
    "    \n",
    "    # Si hay un solo tipo de datos, devolver ese tipo\n",
    "    if len(unique_types) == 1:\n",
    "        return unique_types[0].__name__\n",
    "    \n",
    "    # Si hay varios tipos de datos, devolver 'mixed'\n",
    "    return 'mixed'\n",
    "\n",
    "# Aplicar la función a todas las columnas del DataFrame\n",
    "result = df_games.apply(column_type, axis=0)\n",
    "\n",
    "# Mostrar el resultado\n",
    "print(result)\n"
   ]
  },
  {
   "cell_type": "markdown",
   "metadata": {},
   "source": [
    "Reemplazamos todos los NaN por 'sin datos'"
   ]
  },
  {
   "cell_type": "code",
   "execution_count": 8,
   "metadata": {},
   "outputs": [],
   "source": [
    "df_juegos = df_games.dropna(how='all')"
   ]
  },
  {
   "cell_type": "markdown",
   "metadata": {},
   "source": [
    "Reemplazamos todos los valores no ASCII por Unknown"
   ]
  },
  {
   "cell_type": "code",
   "execution_count": 9,
   "metadata": {},
   "outputs": [
    {
     "name": "stderr",
     "output_type": "stream",
     "text": [
      "C:\\Users\\Daniel\\AppData\\Local\\Temp\\ipykernel_14672\\4240647556.py:5: SettingWithCopyWarning: \n",
      "A value is trying to be set on a copy of a slice from a DataFrame.\n",
      "Try using .loc[row_indexer,col_indexer] = value instead\n",
      "\n",
      "See the caveats in the documentation: https://pandas.pydata.org/pandas-docs/stable/user_guide/indexing.html#returning-a-view-versus-a-copy\n",
      "  df[column_name] = df[column_name].apply(lambda x: replacement_value if isinstance(x, str) and any(ord(c) > 128 for c in x) else x)\n"
     ]
    }
   ],
   "source": [
    "def replace_non_ascii_strings(df, replacement_value=\"Unknown\"):\n",
    "    # Iterar sobre todas las columnas del DataFrame\n",
    "    for column_name in df.columns:\n",
    "        # Reemplazar los valores con caracteres no ASCII por el valor de reemplazo\n",
    "        df[column_name] = df[column_name].apply(lambda x: replacement_value if isinstance(x, str) and any(ord(c) > 128 for c in x) else x)\n",
    "    \n",
    "    return df\n",
    "\n",
    "# Llamar a la función para reemplazar caracteres no ASCII en todas las columnas\n",
    "df_juegos = replace_non_ascii_strings(df_juegos, replacement_value=\"Unknown\")\n"
   ]
  },
  {
   "cell_type": "markdown",
   "metadata": {},
   "source": [
    "Procedemos averiguar que tipo de datos y que cantidad hay en cada columna"
   ]
  },
  {
   "cell_type": "code",
   "execution_count": 32,
   "metadata": {},
   "outputs": [
    {
     "name": "stdout",
     "output_type": "stream",
     "text": [
      "          Column                                        Type Counts\n",
      "0      publisher                      {'str': 24083, 'float': 8052}\n",
      "1         genres                     {'list': 28852, 'float': 3283}\n",
      "2       app_name                         {'str': 32133, 'float': 2}\n",
      "3          title                      {'str': 30085, 'float': 2050}\n",
      "4            url                                     {'str': 32135}\n",
      "5   release_date  {'pandas._libs.tslibs.timestamps.Timestamp': 2...\n",
      "6           tags                      {'list': 31972, 'float': 163}\n",
      "7    reviews_url                         {'str': 32133, 'float': 2}\n",
      "8          specs                      {'list': 31465, 'float': 670}\n",
      "9          price                      {'float': 30225, 'str': 1910}\n",
      "10  early_access                                    {'bool': 32135}\n",
      "11            id                         {'str': 32133, 'float': 2}\n",
      "12     developer                      {'str': 28836, 'float': 3299}\n"
     ]
    },
    {
     "name": "stderr",
     "output_type": "stream",
     "text": [
      "C:\\Users\\Daniel\\AppData\\Local\\Temp\\ipykernel_14672\\2283447455.py:3: FutureWarning: DataFrame.applymap has been deprecated. Use DataFrame.map instead.\n",
      "  type_counts = df.applymap(type).apply(lambda x: {str(k).split(\"'\")[1]: v for k, v in x.value_counts().items()})\n"
     ]
    }
   ],
   "source": [
    "def count_column_types(df):\n",
    "    # Obtener el tipo de datos de cada columna y contar sus ocurrencias\n",
    "    type_counts = df.applymap(type).apply(lambda x: {str(k).split(\"'\")[1]: v for k, v in x.value_counts().items()})\n",
    "\n",
    "    # Transponer el resultado y restablecer el índice\n",
    "    type_counts = type_counts.T.reset_index()\n",
    "\n",
    "    # Renombrar las columnas\n",
    "    type_counts.columns = ['Column', 'Type Counts']\n",
    "\n",
    "    return type_counts\n",
    "\n",
    "# Llamar a la función en un DataFrame 'df'\n",
    "result = count_column_types(df_juegos)\n",
    "\n",
    "# Mostrar el resultado\n",
    "print(result)\n",
    "\n",
    "\n",
    "\n"
   ]
  },
  {
   "cell_type": "markdown",
   "metadata": {},
   "source": [
    "Pasamos todos los valores de release_date a fecha"
   ]
  },
  {
   "cell_type": "code",
   "execution_count": 16,
   "metadata": {},
   "outputs": [
    {
     "name": "stderr",
     "output_type": "stream",
     "text": [
      "C:\\Users\\Daniel\\AppData\\Local\\Temp\\ipykernel_14672\\477321000.py:2: SettingWithCopyWarning: \n",
      "A value is trying to be set on a copy of a slice from a DataFrame.\n",
      "Try using .loc[row_indexer,col_indexer] = value instead\n",
      "\n",
      "See the caveats in the documentation: https://pandas.pydata.org/pandas-docs/stable/user_guide/indexing.html#returning-a-view-versus-a-copy\n",
      "  df_juegos['release_date'] = df_juegos['release_date'].dt.strftime('%Y-%m-%d')\n"
     ]
    }
   ],
   "source": [
    "# Formatear las fechas en \"YYYY-MM-DD\" sin la parte de la hora\n",
    "df_juegos['release_date'] = df_juegos['release_date'].dt.strftime('%Y-%m-%d')\n",
    "\n",
    "\n"
   ]
  },
  {
   "cell_type": "markdown",
   "metadata": {},
   "source": [
    "Cambiamos todos los valores flotantes a String dela columna release_date"
   ]
  },
  {
   "cell_type": "code",
   "execution_count": 24,
   "metadata": {},
   "outputs": [
    {
     "name": "stderr",
     "output_type": "stream",
     "text": [
      "C:\\Users\\Daniel\\AppData\\Local\\Temp\\ipykernel_14672\\550629927.py:1: SettingWithCopyWarning: \n",
      "A value is trying to be set on a copy of a slice from a DataFrame.\n",
      "Try using .loc[row_indexer,col_indexer] = value instead\n",
      "\n",
      "See the caveats in the documentation: https://pandas.pydata.org/pandas-docs/stable/user_guide/indexing.html#returning-a-view-versus-a-copy\n",
      "  df_juegos['release_date'] = pd.to_datetime(df_juegos['release_date'], format='%Y-%m-%d', errors='coerce')\n"
     ]
    }
   ],
   "source": [
    "df_juegos['release_date'] = pd.to_datetime(df_juegos['release_date'], format='%Y-%m-%d', errors='coerce')"
   ]
  },
  {
   "cell_type": "markdown",
   "metadata": {},
   "source": [
    "Verificamos valores de la columna release_date"
   ]
  },
  {
   "cell_type": "code",
   "execution_count": 25,
   "metadata": {},
   "outputs": [
    {
     "name": "stdout",
     "output_type": "stream",
     "text": [
      "La columna 'release_date' está en formato de fecha válido.\n"
     ]
    }
   ],
   "source": [
    "# Define una función para verificar si una cadena está en formato de fecha\n",
    "def is_valid_date(date_str):\n",
    "    try:\n",
    "        pd.to_datetime(date_str, format='%Y-%m-%d', errors='raise')\n",
    "        return True\n",
    "    except ValueError:\n",
    "        return False\n",
    "\n",
    "# Verifica si todos los valores en la columna 'release_date' son fechas válidas\n",
    "all_dates_are_valid = df_juegos['release_date'].apply(is_valid_date).all()\n",
    "\n",
    "if all_dates_are_valid:\n",
    "    print(\"La columna 'release_date' está en formato de fecha válido.\")\n",
    "else:\n",
    "    print(\"La columna 'release_date' no está en formato de fecha válido.\")\n",
    "\n",
    "\n"
   ]
  },
  {
   "cell_type": "markdown",
   "metadata": {},
   "source": [
    "Verificamos la columna"
   ]
  },
  {
   "cell_type": "code",
   "execution_count": 26,
   "metadata": {},
   "outputs": [
    {
     "data": {
      "text/plain": [
       "88310    2018-01-04\n",
       "88311    2018-01-04\n",
       "88312    2017-07-24\n",
       "88313    2017-12-07\n",
       "88314           NaT\n",
       "            ...    \n",
       "120440   2018-01-04\n",
       "120441   2018-01-04\n",
       "120442   2018-01-04\n",
       "120443   2017-09-02\n",
       "120444          NaT\n",
       "Name: release_date, Length: 32135, dtype: datetime64[ns]"
      ]
     },
     "execution_count": 26,
     "metadata": {},
     "output_type": "execute_result"
    }
   ],
   "source": [
    "df_juegos['release_date']"
   ]
  },
  {
   "cell_type": "markdown",
   "metadata": {},
   "source": [
    "Pasamos los NaN a NaT (Valores No Válidos de Fecha y Hora)."
   ]
  },
  {
   "cell_type": "code",
   "execution_count": 27,
   "metadata": {},
   "outputs": [
    {
     "name": "stderr",
     "output_type": "stream",
     "text": [
      "C:\\Users\\Daniel\\AppData\\Local\\Temp\\ipykernel_14672\\4154136691.py:2: SettingWithCopyWarning: \n",
      "A value is trying to be set on a copy of a slice from a DataFrame.\n",
      "Try using .loc[row_indexer,col_indexer] = value instead\n",
      "\n",
      "See the caveats in the documentation: https://pandas.pydata.org/pandas-docs/stable/user_guide/indexing.html#returning-a-view-versus-a-copy\n",
      "  df_juegos['release_date'] = pd.to_datetime(df_juegos['release_date'], format='%Y-%m-%d', errors='coerce')\n",
      "C:\\Users\\Daniel\\AppData\\Local\\Temp\\ipykernel_14672\\4154136691.py:5: SettingWithCopyWarning: \n",
      "A value is trying to be set on a copy of a slice from a DataFrame\n",
      "\n",
      "See the caveats in the documentation: https://pandas.pydata.org/pandas-docs/stable/user_guide/indexing.html#returning-a-view-versus-a-copy\n",
      "  df_juegos['release_date'].fillna(pd.NaT, inplace=True)\n"
     ]
    }
   ],
   "source": [
    "# Convertir la columna 'release_date' al formato de fecha\n",
    "df_juegos['release_date'] = pd.to_datetime(df_juegos['release_date'], format='%Y-%m-%d', errors='coerce')\n",
    "\n",
    "# Reemplazar NaN en la columna 'release_date' con NaT (Valores No Válidos de Fecha y Hora)\n",
    "df_juegos['release_date'].fillna(pd.NaT, inplace=True)\n"
   ]
  },
  {
   "cell_type": "code",
   "execution_count": 28,
   "metadata": {},
   "outputs": [
    {
     "data": {
      "text/plain": [
       "88310    2018-01-04\n",
       "88311    2018-01-04\n",
       "88312    2017-07-24\n",
       "88313    2017-12-07\n",
       "88314           NaT\n",
       "            ...    \n",
       "120440   2018-01-04\n",
       "120441   2018-01-04\n",
       "120442   2018-01-04\n",
       "120443   2017-09-02\n",
       "120444          NaT\n",
       "Name: release_date, Length: 32135, dtype: datetime64[ns]"
      ]
     },
     "execution_count": 28,
     "metadata": {},
     "output_type": "execute_result"
    }
   ],
   "source": [
    "df_juegos['release_date']"
   ]
  },
  {
   "cell_type": "markdown",
   "metadata": {},
   "source": [
    "Imprimimos el df para verificar el tipo de datos"
   ]
  },
  {
   "cell_type": "code",
   "execution_count": 31,
   "metadata": {},
   "outputs": [
    {
     "name": "stdout",
     "output_type": "stream",
     "text": [
      "          Column                                        Type Counts\n",
      "0      publisher                      {'str': 24083, 'float': 8052}\n",
      "1         genres                     {'list': 28852, 'float': 3283}\n",
      "2       app_name                         {'str': 32133, 'float': 2}\n",
      "3          title                      {'str': 30085, 'float': 2050}\n",
      "4            url                                     {'str': 32135}\n",
      "5   release_date  {'pandas._libs.tslibs.timestamps.Timestamp': 2...\n",
      "6           tags                      {'list': 31972, 'float': 163}\n",
      "7    reviews_url                         {'str': 32133, 'float': 2}\n",
      "8          specs                      {'list': 31465, 'float': 670}\n",
      "9          price                      {'float': 30225, 'str': 1910}\n",
      "10  early_access                                    {'bool': 32135}\n",
      "11            id                         {'str': 32133, 'float': 2}\n",
      "12     developer                      {'str': 28836, 'float': 3299}\n"
     ]
    },
    {
     "name": "stderr",
     "output_type": "stream",
     "text": [
      "C:\\Users\\Daniel\\AppData\\Local\\Temp\\ipykernel_14672\\3020584514.py:3: FutureWarning: DataFrame.applymap has been deprecated. Use DataFrame.map instead.\n",
      "  type_counts = df.applymap(type).apply(lambda x: {str(k).split(\"'\")[1]: v for k, v in x.value_counts().items()})\n"
     ]
    }
   ],
   "source": [
    "def count_column_types(df):\n",
    "    # Obtener el tipo de datos de cada columna y contar sus ocurrencias\n",
    "    type_counts = df.applymap(type).apply(lambda x: {str(k).split(\"'\")[1]: v for k, v in x.value_counts().items()})\n",
    "\n",
    "    # Transponer el resultado y restablecer el índice\n",
    "    type_counts = type_counts.T.reset_index()\n",
    "\n",
    "    # Renombrar las columnas\n",
    "    type_counts.columns = ['Column', 'Type Counts']\n",
    "\n",
    "    return type_counts\n",
    "\n",
    "# Llamar a la función en un DataFrame 'df'\n",
    "result = count_column_types(df_juegos)\n",
    "\n",
    "# Mostrar el resultado\n",
    "print(result)\n"
   ]
  },
  {
   "cell_type": "markdown",
   "metadata": {},
   "source": [
    "Vemos los string de la columna price"
   ]
  },
  {
   "cell_type": "code",
   "execution_count": 33,
   "metadata": {},
   "outputs": [
    {
     "name": "stdout",
     "output_type": "stream",
     "text": [
      "['Free To Play' 'Free to Play' 'Free' 'Free Demo' 'Play for Free!'\n",
      " 'Install Now' 'Play WARMACHINE: Tactics Demo' 'Free Mod' 'Install Theme'\n",
      " 'Third-party' 'Play Now' 'Unknown' 'Play the Demo' 'Starting at $499.00'\n",
      " 'Starting at $449.00' 'Free to Try' 'Free Movie' 'Free to Use']\n"
     ]
    }
   ],
   "source": [
    "# Filtrar las filas donde 'price' es de tipo cadena (string)\n",
    "strings_en_price = df_juegos[df_juegos['price'].apply(lambda x: isinstance(x, str))]\n",
    "\n",
    "# Mostrar los valores únicos de tipo cadena en la columna 'price'\n",
    "unique_strings_en_price = strings_en_price['price'].unique()\n",
    "\n",
    "# Mostrar los valores únicos\n",
    "print(unique_strings_en_price)\n"
   ]
  },
  {
   "cell_type": "markdown",
   "metadata": {},
   "source": [
    "Reemplazamos todos los string por 0"
   ]
  },
  {
   "cell_type": "code",
   "execution_count": 34,
   "metadata": {},
   "outputs": [
    {
     "name": "stderr",
     "output_type": "stream",
     "text": [
      "C:\\Users\\Daniel\\AppData\\Local\\Temp\\ipykernel_14672\\1970747147.py:2: SettingWithCopyWarning: \n",
      "A value is trying to be set on a copy of a slice from a DataFrame.\n",
      "Try using .loc[row_indexer,col_indexer] = value instead\n",
      "\n",
      "See the caveats in the documentation: https://pandas.pydata.org/pandas-docs/stable/user_guide/indexing.html#returning-a-view-versus-a-copy\n",
      "  df_juegos['price'] = df_juegos['price'].apply(lambda x: 0 if isinstance(x, str) else x)\n"
     ]
    }
   ],
   "source": [
    "# Reemplazar todos los valores de tipo cadena en la columna 'price' por 0\n",
    "df_juegos['price'] = df_juegos['price'].apply(lambda x: 0 if isinstance(x, str) else x)\n"
   ]
  },
  {
   "cell_type": "markdown",
   "metadata": {},
   "source": [
    "Pasamos la columna price en su totalidad a valores que se puedan sumar"
   ]
  },
  {
   "cell_type": "code",
   "execution_count": 35,
   "metadata": {},
   "outputs": [
    {
     "name": "stderr",
     "output_type": "stream",
     "text": [
      "C:\\Users\\Daniel\\AppData\\Local\\Temp\\ipykernel_14672\\2065939468.py:2: SettingWithCopyWarning: \n",
      "A value is trying to be set on a copy of a slice from a DataFrame.\n",
      "Try using .loc[row_indexer,col_indexer] = value instead\n",
      "\n",
      "See the caveats in the documentation: https://pandas.pydata.org/pandas-docs/stable/user_guide/indexing.html#returning-a-view-versus-a-copy\n",
      "  df_juegos['price'] = pd.to_numeric(df_juegos['price'], errors='coerce')\n"
     ]
    }
   ],
   "source": [
    "# Convierte la columna 'price' de df_games a tipo float, pero establece 'errors' en 'coerce' para manejar los valores no válidos como NaN\n",
    "df_juegos['price'] = pd.to_numeric(df_juegos['price'], errors='coerce')\n",
    "\n",
    "# Ahora puedes usar df como lo necesites\n"
   ]
  },
  {
   "cell_type": "code",
   "execution_count": 37,
   "metadata": {},
   "outputs": [
    {
     "name": "stderr",
     "output_type": "stream",
     "text": [
      "C:\\Users\\Daniel\\AppData\\Local\\Temp\\ipykernel_14672\\3020584514.py:3: FutureWarning: DataFrame.applymap has been deprecated. Use DataFrame.map instead.\n",
      "  type_counts = df.applymap(type).apply(lambda x: {str(k).split(\"'\")[1]: v for k, v in x.value_counts().items()})\n"
     ]
    },
    {
     "name": "stdout",
     "output_type": "stream",
     "text": [
      "          Column                                        Type Counts\n",
      "0      publisher                      {'str': 24083, 'float': 8052}\n",
      "1         genres                     {'list': 28852, 'float': 3283}\n",
      "2       app_name                         {'str': 32133, 'float': 2}\n",
      "3          title                      {'str': 30085, 'float': 2050}\n",
      "4            url                                     {'str': 32135}\n",
      "5   release_date  {'pandas._libs.tslibs.timestamps.Timestamp': 2...\n",
      "6           tags                      {'list': 31972, 'float': 163}\n",
      "7    reviews_url                         {'str': 32133, 'float': 2}\n",
      "8          specs                      {'list': 31465, 'float': 670}\n",
      "9          price                                   {'float': 32135}\n",
      "10  early_access                                    {'bool': 32135}\n",
      "11            id                         {'str': 32133, 'float': 2}\n",
      "12     developer                      {'str': 28836, 'float': 3299}\n"
     ]
    }
   ],
   "source": [
    "def count_column_types(df):\n",
    "    # Obtener el tipo de datos de cada columna y contar sus ocurrencias\n",
    "    type_counts = df.applymap(type).apply(lambda x: {str(k).split(\"'\")[1]: v for k, v in x.value_counts().items()})\n",
    "\n",
    "    # Transponer el resultado y restablecer el índice\n",
    "    type_counts = type_counts.T.reset_index()\n",
    "\n",
    "    # Renombrar las columnas\n",
    "    type_counts.columns = ['Column', 'Type Counts']\n",
    "\n",
    "    return type_counts\n",
    "\n",
    "# Llamar a la función en un DataFrame 'df'\n",
    "result = count_column_types(df_juegos)\n",
    "\n",
    "# Mostrar el resultado\n",
    "print(result)\n"
   ]
  },
  {
   "cell_type": "code",
   "execution_count": 38,
   "metadata": {},
   "outputs": [
    {
     "data": {
      "text/plain": [
       "88310     4.99\n",
       "88311     0.00\n",
       "88312     0.00\n",
       "88313     0.99\n",
       "88314     2.99\n",
       "          ... \n",
       "120440    1.99\n",
       "120441    4.99\n",
       "120442    1.99\n",
       "120443    4.99\n",
       "120444    4.99\n",
       "Name: price, Length: 32135, dtype: float64"
      ]
     },
     "execution_count": 38,
     "metadata": {},
     "output_type": "execute_result"
    }
   ],
   "source": [
    "df_juegos['price']"
   ]
  },
  {
   "cell_type": "markdown",
   "metadata": {},
   "source": [
    "Reemplazar los valores NaN en la columna 'price' con 0"
   ]
  },
  {
   "cell_type": "code",
   "execution_count": 39,
   "metadata": {},
   "outputs": [
    {
     "name": "stderr",
     "output_type": "stream",
     "text": [
      "C:\\Users\\Daniel\\AppData\\Local\\Temp\\ipykernel_14672\\4069105665.py:2: SettingWithCopyWarning: \n",
      "A value is trying to be set on a copy of a slice from a DataFrame\n",
      "\n",
      "See the caveats in the documentation: https://pandas.pydata.org/pandas-docs/stable/user_guide/indexing.html#returning-a-view-versus-a-copy\n",
      "  df_juegos['price'].fillna(0, inplace=True)\n"
     ]
    }
   ],
   "source": [
    "\n",
    "# Reemplazar los valores NaN en la columna 'price' con 0\n",
    "df_juegos['price'].fillna(0, inplace=True)\n",
    "\n"
   ]
  },
  {
   "cell_type": "code",
   "execution_count": 41,
   "metadata": {},
   "outputs": [
    {
     "name": "stdout",
     "output_type": "stream",
     "text": [
      "          Column                                        Type Counts\n",
      "0      publisher                      {'str': 24083, 'float': 8052}\n",
      "1         genres                     {'list': 28852, 'float': 3283}\n",
      "2       app_name                         {'str': 32133, 'float': 2}\n",
      "3          title                      {'str': 30085, 'float': 2050}\n",
      "4            url                                     {'str': 32135}\n",
      "5   release_date  {'pandas._libs.tslibs.timestamps.Timestamp': 2...\n",
      "6           tags                      {'list': 31972, 'float': 163}\n",
      "7    reviews_url                         {'str': 32133, 'float': 2}\n",
      "8          specs                      {'list': 31465, 'float': 670}\n",
      "9          price                                   {'float': 32135}\n",
      "10  early_access                                    {'bool': 32135}\n",
      "11            id                         {'str': 32133, 'float': 2}\n",
      "12     developer                      {'str': 28836, 'float': 3299}\n"
     ]
    },
    {
     "name": "stderr",
     "output_type": "stream",
     "text": [
      "C:\\Users\\Daniel\\AppData\\Local\\Temp\\ipykernel_14672\\2838975053.py:3: FutureWarning: DataFrame.applymap has been deprecated. Use DataFrame.map instead.\n",
      "  type_counts = df.applymap(type).apply(lambda x: {str(k).split(\"'\")[1]: v for k, v in x.value_counts().items()})\n"
     ]
    }
   ],
   "source": [
    "def count_column_types(df):\n",
    "    # Obtener el tipo de datos de cada columna y contar sus ocurrencias\n",
    "    type_counts = df.applymap(type).apply(lambda x: {str(k).split(\"'\")[1]: v for k, v in x.value_counts().items()})\n",
    "\n",
    "    # Transponer el resultado y restablecer el índice\n",
    "    type_counts = type_counts.T.reset_index()\n",
    "\n",
    "    # Renombrar las columnas\n",
    "    type_counts.columns = ['Column', 'Type Counts']\n",
    "\n",
    "    return type_counts\n",
    "\n",
    "# Llamar a la función en un DataFrame 'df'\n",
    "result = count_column_types(df_juegos)\n",
    "\n",
    "# Mostrar el resultado\n",
    "print(result)\n",
    "\n"
   ]
  },
  {
   "cell_type": "markdown",
   "metadata": {},
   "source": [
    "Ver la columna price"
   ]
  },
  {
   "cell_type": "code",
   "execution_count": 42,
   "metadata": {},
   "outputs": [
    {
     "data": {
      "text/plain": [
       "88310     4.99\n",
       "88311     0.00\n",
       "88312     0.00\n",
       "88313     0.99\n",
       "88314     2.99\n",
       "          ... \n",
       "120440    1.99\n",
       "120441    4.99\n",
       "120442    1.99\n",
       "120443    4.99\n",
       "120444    4.99\n",
       "Name: price, Length: 32135, dtype: float64"
      ]
     },
     "execution_count": 42,
     "metadata": {},
     "output_type": "execute_result"
    }
   ],
   "source": [
    "df_juegos['price']\n"
   ]
  },
  {
   "cell_type": "markdown",
   "metadata": {},
   "source": [
    "Verificamos la columna price q esten en float"
   ]
  },
  {
   "cell_type": "code",
   "execution_count": 44,
   "metadata": {},
   "outputs": [
    {
     "name": "stdout",
     "output_type": "stream",
     "text": [
      "          Column                                        Type Counts\n",
      "0      publisher                      {'str': 24083, 'float': 8052}\n",
      "1         genres                     {'list': 28852, 'float': 3283}\n",
      "2       app_name                         {'str': 32133, 'float': 2}\n",
      "3          title                      {'str': 30085, 'float': 2050}\n",
      "4            url                                     {'str': 32135}\n",
      "5   release_date  {'pandas._libs.tslibs.timestamps.Timestamp': 2...\n",
      "6           tags                      {'list': 31972, 'float': 163}\n",
      "7    reviews_url                         {'str': 32133, 'float': 2}\n",
      "8          specs                      {'list': 31465, 'float': 670}\n",
      "9          price                                   {'float': 32135}\n",
      "10  early_access                                    {'bool': 32135}\n",
      "11            id                         {'str': 32133, 'float': 2}\n",
      "12     developer                      {'str': 28836, 'float': 3299}\n"
     ]
    },
    {
     "name": "stderr",
     "output_type": "stream",
     "text": [
      "C:\\Users\\Daniel\\AppData\\Local\\Temp\\ipykernel_14672\\3020584514.py:3: FutureWarning: DataFrame.applymap has been deprecated. Use DataFrame.map instead.\n",
      "  type_counts = df.applymap(type).apply(lambda x: {str(k).split(\"'\")[1]: v for k, v in x.value_counts().items()})\n"
     ]
    }
   ],
   "source": [
    "def count_column_types(df):\n",
    "    # Obtener el tipo de datos de cada columna y contar sus ocurrencias\n",
    "    type_counts = df.applymap(type).apply(lambda x: {str(k).split(\"'\")[1]: v for k, v in x.value_counts().items()})\n",
    "\n",
    "    # Transponer el resultado y restablecer el índice\n",
    "    type_counts = type_counts.T.reset_index()\n",
    "\n",
    "    # Renombrar las columnas\n",
    "    type_counts.columns = ['Column', 'Type Counts']\n",
    "\n",
    "    return type_counts\n",
    "\n",
    "# Llamar a la función en un DataFrame 'df'\n",
    "result = count_column_types(df_juegos)\n",
    "\n",
    "# Mostrar el resultado\n",
    "print(result)\n"
   ]
  },
  {
   "cell_type": "markdown",
   "metadata": {},
   "source": [
    "Hacemos lo mismo con la columna Genres"
   ]
  },
  {
   "cell_type": "code",
   "execution_count": 45,
   "metadata": {},
   "outputs": [
    {
     "name": "stdout",
     "output_type": "stream",
     "text": [
      "['RPG', 'Strategy', 'Audio Production', 'Software Training', 'Sports', 'Simulation', 'Massively Multiplayer', 'Accounting', 'Web Publishing', 'Free to Play', 'Adventure', 'Photo Editing', 'Indie', 'Education', 'Casual', 'Racing', 'Utilities', 'Video Production', 'Early Access', 'Action', 'Animation &amp; Modeling', 'Design &amp; Illustration']\n"
     ]
    }
   ],
   "source": [
    "def show_unique_values(df, column_name):\n",
    "    # Obtener todas las listas de la columna especificada y combinarlas en una lista\n",
    "    all_values = [value for sublist in df[column_name] if isinstance(sublist, list) for value in sublist]\n",
    "    \n",
    "    # Convertir los valores únicos en un conjunto para eliminar duplicados\n",
    "    unique_values_set = set(all_values)\n",
    "    \n",
    "    # Convertir el conjunto nuevamente a una lista\n",
    "    unique_values_list = list(unique_values_set)\n",
    "    \n",
    "    # Devolver el resultado\n",
    "    return unique_values_list\n",
    "\n",
    "# Llamar a la función para mostrar los valores únicos de la columna 'genres' del DataFrame 'df'\n",
    "result = show_unique_values(df_juegos, 'genres')\n",
    "\n",
    "# Mostrar el resultado\n",
    "print(result)\n"
   ]
  },
  {
   "cell_type": "markdown",
   "metadata": {},
   "source": [
    "Ahora pasamos todos los valores de genres a String"
   ]
  },
  {
   "cell_type": "code",
   "execution_count": 46,
   "metadata": {},
   "outputs": [
    {
     "name": "stdout",
     "output_type": "stream",
     "text": [
      "['Action, Casual, Indie, Simulation, Strategy'\n",
      " 'Free to Play, Indie, RPG, Strategy'\n",
      " 'Casual, Free to Play, Indie, Simulation, Sports'\n",
      " 'Action, Adventure, Casual' 'nan' 'Action, Adventure, Simulation'\n",
      " 'Free to Play, Indie, Simulation, Sports'\n",
      " 'Casual, Indie, Racing, Simulation'\n",
      " 'Action, Indie, Simulation, Early Access'\n",
      " 'Action, Adventure, Casual, Indie, RPG' 'Casual, Indie'\n",
      " 'Casual, Indie, Simulation'\n",
      " 'Adventure, Casual, Indie, Simulation, Strategy'\n",
      " 'Action, Adventure, Indie' 'Racing, Simulation, Sports' 'Action, Indie'\n",
      " 'Action, Indie, Racing' 'Action' 'Action, Indie, RPG'\n",
      " 'Casual, Indie, Strategy'\n",
      " 'Action, Casual, Indie, Massively Multiplayer, Simulation, Sports, Strategy'\n",
      " 'Adventure, Casual, Indie' 'Action, Adventure, RPG'\n",
      " 'Adventure, Casual, Indie, RPG' 'Strategy'\n",
      " 'Indie, Massively Multiplayer, RPG, Early Access'\n",
      " 'Adventure, Free to Play, RPG, Early Access'\n",
      " 'Action, Indie, Strategy, Early Access'\n",
      " 'Action, Adventure, Indie, RPG, Strategy' 'Action, Adventure, Indie, RPG'\n",
      " 'Casual, Strategy, Early Access' 'Adventure, Casual, Free to Play, Indie'\n",
      " 'Indie, Strategy' 'Indie, Simulation' 'Racing' 'Adventure, RPG'\n",
      " 'Action, Adventure' 'RPG' 'Indie, RPG' 'Action, RPG' 'Casual'\n",
      " 'RPG, Casual, Adventure' 'Action, Adventure, Strategy' 'Simulation'\n",
      " 'Simulation, Strategy' 'Casual, Simulation' 'Adventure' 'Sports'\n",
      " 'Adventure, Indie' 'Indie' 'Strategy, Simulation' 'RPG, Strategy'\n",
      " 'Indie, Casual' 'Action, Simulation, Strategy' 'Indie, Casual, Sports'\n",
      " 'Action, Indie, Strategy' 'Strategy, Indie' 'Casual, Strategy'\n",
      " 'RPG, Massively Multiplayer' 'Massively Multiplayer, RPG'\n",
      " 'Indie, Simulation, Strategy' 'Action, Simulation' 'Simulation, Sports'\n",
      " 'Action, Adventure, Racing, Simulation, Strategy' 'Action, Racing'\n",
      " 'Action, Casual' 'Adventure, Casual' 'Action, RPG, Indie'\n",
      " 'Strategy, Indie, Simulation' 'Action, Free to Play, Indie'\n",
      " 'Strategy, Casual' 'Action, Casual, Indie'\n",
      " 'Action, Adventure, Casual, RPG' 'Strategy, RPG' 'RPG, Casual'\n",
      " 'RPG, Indie' 'Action, RPG, Massively Multiplayer'\n",
      " 'Adventure, Casual, Simulation' 'Adventure, Casual, Indie, Simulation'\n",
      " 'Indie, RPG, Strategy' 'Indie, Racing' 'RPG, Simulation, Strategy'\n",
      " 'Action, Strategy, Indie, Sports' 'Casual, Indie, Simulation, Strategy'\n",
      " 'Free to Play, Massively Multiplayer, RPG'\n",
      " 'Action, Casual, Indie, Strategy' 'Adventure, Indie, RPG'\n",
      " 'Action, Free to Play'\n",
      " 'Action, Adventure, Free to Play, Indie, Massively Multiplayer, RPG'\n",
      " 'Adventure, Strategy, RPG, Indie' 'Action, Indie, RPG, Strategy'\n",
      " 'Adventure, Casual, Free to Play, Massively Multiplayer, Strategy'\n",
      " 'Action, Indie, Racing, Strategy'\n",
      " 'Action, Massively Multiplayer, Simulation' 'Racing, Simulation'\n",
      " 'Strategy, Indie, Casual, Simulation' 'Casual, Simulation, Strategy'\n",
      " 'Adventure, Casual, RPG'\n",
      " 'Action, Adventure, Free to Play, Massively Multiplayer, RPG'\n",
      " 'Adventure, Strategy' 'Strategy, RPG, Indie'\n",
      " 'Action, Free to Play, Massively Multiplayer' 'Casual, Indie, RPG'\n",
      " 'Casual, Indie, Racing' 'RPG, Simulation'\n",
      " 'Action, Free to Play, Indie, Massively Multiplayer, RPG'\n",
      " 'Action, Indie, Casual' 'Adventure, Indie, Strategy'\n",
      " 'Action, RPG, Strategy' 'Indie, Simulation, Strategy, Early Access'\n",
      " 'Action, Strategy, RPG, Indie' 'Action, Casual, Simulation, Strategy'\n",
      " 'Action, Strategy, Indie, Casual'\n",
      " 'Adventure, Casual, Free to Play, Indie, RPG'\n",
      " 'Animation &amp; Modeling, Video Production' 'Action, Strategy'\n",
      " 'Action, Indie, Simulation, Strategy' 'Animation &amp; Modeling'\n",
      " 'Action, Adventure, Strategy, RPG, Indie'\n",
      " 'Action, Adventure, Indie, Simulation' 'Action, Indie, Simulation'\n",
      " 'Action, Adventure, Casual, Free to Play, Massively Multiplayer, RPG, Simulation'\n",
      " 'Strategy, Indie, Casual' 'Action, Strategy, Indie'\n",
      " 'Action, Strategy, Casual' 'Utilities'\n",
      " 'Action, Adventure, Indie, Strategy' 'RPG, Web Publishing'\n",
      " 'Action, Free to Play, Massively Multiplayer, RPG'\n",
      " 'Adventure, Casual, Indie, RPG, Simulation'\n",
      " 'Adventure, Indie, Simulation' 'Action, Free to Play, Indie, Strategy'\n",
      " 'Indie, Simulation, Sports, Strategy' 'Massively Multiplayer'\n",
      " 'Casual, Sports'\n",
      " 'Education, Software Training, Utilities, Web Publishing'\n",
      " 'Design &amp; Illustration, Web Publishing'\n",
      " 'Casual, Indie, RPG, Strategy' 'Racing, Sports'\n",
      " 'Adventure, Indie, RPG, Strategy'\n",
      " 'Action, Free to Play, Massively Multiplayer, Simulation'\n",
      " 'Action, Adventure, Casual, Indie'\n",
      " 'Free to Play, Massively Multiplayer, Simulation'\n",
      " 'Action, Adventure, Indie, RPG, Early Access'\n",
      " 'Action, Racing, Simulation, Sports'\n",
      " 'Action, Adventure, Casual, Strategy'\n",
      " 'Free to Play, Indie, Simulation, Sports, Early Access'\n",
      " 'Action, Adventure, RPG, Simulation, Strategy' 'Action, RPG, Simulation'\n",
      " 'Adventure, Casual, Indie, RPG, Strategy'\n",
      " 'Indie, RPG, Simulation, Strategy' 'Indie, RPG, Simulation, Early Access'\n",
      " 'Free to Play, Simulation' 'Action, Indie, RPG, Early Access'\n",
      " 'Action, Indie, Sports'\n",
      " 'Animation &amp; Modeling, Design &amp; Illustration, Education, Software Training, Utilities'\n",
      " 'Adventure, Free to Play, Indie' 'Design &amp; Illustration'\n",
      " 'Animation &amp; Modeling, Education, Utilities, Web Publishing'\n",
      " 'Adventure, Free to Play, Indie, Massively Multiplayer, RPG, Strategy'\n",
      " 'Action, Adventure, Free to Play, Indie'\n",
      " 'Action, Casual, Indie, Simulation'\n",
      " 'Action, Adventure, Indie, Massively Multiplayer, RPG'\n",
      " 'Indie, Massively Multiplayer, Strategy' 'Adventure, RPG, Strategy'\n",
      " 'Education, Software Training' 'Casual, Free to Play, Indie'\n",
      " 'Action, Adventure, Casual, Racing'\n",
      " 'Casual, Animation &amp; Modeling, Audio Production, Utilities'\n",
      " 'Animation &amp; Modeling, Web Publishing' 'Audio Production, Utilities'\n",
      " 'Adventure, Free to Play, Indie, RPG' 'Action, Racing, Early Access'\n",
      " 'Casual, Indie, Strategy, Early Access'\n",
      " 'Animation &amp; Modeling, Design &amp; Illustration'\n",
      " 'Audio Production, Utilities, Video Production'\n",
      " 'Free to Play, Indie, Massively Multiplayer, RPG' 'Casual, Racing'\n",
      " 'Action, Adventure, Indie, Racing' 'Action, Indie, Early Access'\n",
      " 'Action, Early Access, Indie' 'Indie, Racing, Sports'\n",
      " 'Action, Racing, Sports' 'Casual, RPG'\n",
      " 'Action, Casual, Indie, Early Access'\n",
      " 'Action, Casual, Indie, Racing, Simulation'\n",
      " 'Free to Play, Indie, Strategy' 'Action, Racing, Simulation, Strategy'\n",
      " 'Casual, Indie, RPG, Simulation'\n",
      " 'Action, Adventure, Casual, Free to Play, RPG'\n",
      " 'Action, Adventure, Indie, Simulation, Early Access'\n",
      " 'Action, Indie, Massively Multiplayer, RPG, Simulation'\n",
      " 'Adventure, Casual, Indie, RPG, Simulation, Strategy, Early Access'\n",
      " 'Action, Casual, Indie, Sports'\n",
      " 'Action, Adventure, Casual, Indie, Strategy'\n",
      " 'Action, Casual, Free to Play, Indie, Massively Multiplayer, Early Access'\n",
      " 'Casual, Free to Play, Indie, Simulation, Strategy'\n",
      " 'Indie, Strategy, Early Access'\n",
      " 'Adventure, Indie, RPG, Simulation, Strategy'\n",
      " 'Adventure, Indie, RPG, Simulation' 'Action, Massively Multiplayer, RPG'\n",
      " 'Design &amp; Illustration, Photo Editing'\n",
      " 'Action, Adventure, Free to Play, Indie, Massively Multiplayer, RPG, Strategy'\n",
      " 'Action, Free to Play, Indie, Massively Multiplayer'\n",
      " 'Action, Adventure, Free to Play, Indie, RPG'\n",
      " 'Action, Indie, Racing, Simulation, Sports, Early Access'\n",
      " 'Casual, Free to Play, Indie, Massively Multiplayer, Strategy'\n",
      " 'Video Production'\n",
      " 'Adventure, Free to Play, Massively Multiplayer, RPG, Strategy'\n",
      " 'Action, Adventure, RPG, Strategy' 'Simulation, Sports, Strategy'\n",
      " 'Indie, Simulation, Early Access'\n",
      " 'Action, Free to Play, Massively Multiplayer, RPG, Strategy'\n",
      " 'Action, Indie, Simulation, Sports' 'Sports, Strategy'\n",
      " 'Action, Adventure, Racing'\n",
      " 'Action, Casual, Free to Play, Massively Multiplayer'\n",
      " 'Action, Casual, Strategy' 'Casual, Free to Play, Indie, Strategy'\n",
      " 'Adventure, Simulation'\n",
      " 'Action, Adventure, Free to Play, Simulation, Sports'\n",
      " 'Indie, Racing, Sports, Early Access'\n",
      " 'Action, Adventure, Indie, Massively Multiplayer, RPG, Simulation, Strategy, Early Access'\n",
      " 'Action, Adventure, Casual, Free to Play, RPG, Strategy'\n",
      " 'Action, Adventure, Indie, RPG, Simulation, Strategy, Early Access'\n",
      " 'Adventure, Indie, Early Access'\n",
      " 'Animation &amp; Modeling, Design &amp; Illustration, Education, Software Training, Utilities, Web Publishing'\n",
      " 'Massively Multiplayer, RPG, Early Access' 'Indie, Early Access'\n",
      " 'Free to Play, Indie' 'Education' 'Free to Play, Strategy'\n",
      " 'Adventure, Indie, RPG, Early Access'\n",
      " 'Adventure, Casual, Indie, RPG, Early Access'\n",
      " 'Action, Adventure, Casual, Free to Play, Indie, RPG, Strategy'\n",
      " 'Action, Adventure, RPG, Early Access'\n",
      " 'Action, Casual, Indie, Racing, Sports'\n",
      " 'Indie, Massively Multiplayer, Simulation, Strategy'\n",
      " 'Action, Free to Play, Early Access'\n",
      " 'Casual, Indie, Simulation, Strategy, Early Access' 'Action, Sports'\n",
      " 'Casual, Free to Play, Indie, Simulation'\n",
      " 'Design &amp; Illustration, Education, Utilities'\n",
      " 'Design &amp; Illustration, Education'\n",
      " 'Action, Adventure, Indie, Early Access'\n",
      " 'Action, Adventure, Casual, Indie, RPG, Strategy'\n",
      " 'Action, Free to Play, Indie, RPG'\n",
      " 'Action, Adventure, Casual, Indie, RPG, Early Access' 'Free to Play'\n",
      " 'Indie, Massively Multiplayer, RPG, Strategy, Early Access'\n",
      " 'Animation &amp; Modeling, Design &amp; Illustration, Education, Software Training, Utilities, Early Access'\n",
      " 'Action, Adventure, Indie, Strategy, Early Access'\n",
      " 'Action, Massively Multiplayer, Racing'\n",
      " 'Action, Indie, Racing, Early Access'\n",
      " 'Adventure, Indie, Massively Multiplayer, RPG, Strategy'\n",
      " 'Animation &amp; Modeling, Design &amp; Illustration, Utilities, Video Production'\n",
      " 'Casual, Indie, Sports'\n",
      " 'Action, Casual, Free to Play, RPG, Simulation, Strategy'\n",
      " 'Action, Casual, RPG, Simulation, Strategy'\n",
      " 'Indie, Racing, Simulation, Sports'\n",
      " 'Action, Adventure, Free to Play, Massively Multiplayer'\n",
      " 'Simulation, Strategy, Early Access' 'Action, Free to Play, RPG'\n",
      " 'Action, Adventure, Casual, Indie, Strategy, Early Access'\n",
      " 'Action, Adventure, Casual, Free to Play, Massively Multiplayer, RPG'\n",
      " 'Adventure, RPG, Strategy, Early Access' 'Action, Casual, Indie, Racing'\n",
      " 'Action, Adventure, Free to Play' 'Audio Production'\n",
      " 'Indie, RPG, Simulation' 'RPG, Strategy, Early Access'\n",
      " 'Action, Casual, Free to Play, Massively Multiplayer, Sports'\n",
      " 'Adventure, RPG, Simulation, Strategy'\n",
      " 'Action, Free to Play, Massively Multiplayer, RPG, Early Access'\n",
      " 'Free to Play, Racing, Simulation, Sports'\n",
      " 'Action, Adventure, Casual, Indie, Simulation'\n",
      " 'Design &amp; Illustration, Utilities, Web Publishing'\n",
      " 'Action, Adventure, Casual, Free to Play, Indie, Massively Multiplayer, RPG, Early Access'\n",
      " 'Animation &amp; Modeling, Design &amp; Illustration, Video Production'\n",
      " 'Action, Casual, Indie, Racing, Simulation, Sports'\n",
      " 'Casual, Free to Play' 'Indie, Massively Multiplayer, RPG, Strategy'\n",
      " 'Simulation, Sports, Early Access'\n",
      " 'Action, Adventure, Casual, Indie, RPG, Simulation, Strategy'\n",
      " 'Indie, Sports' 'Adventure, Indie, Racing'\n",
      " 'Adventure, Casual, Free to Play, Indie, RPG, Simulation, Strategy'\n",
      " 'Action, Free to Play, Strategy' 'Action, Free to Play, RPG, Strategy'\n",
      " 'Casual, Indie, Early Access' 'Action, Strategy, Early Access'\n",
      " 'Casual, Simulation, Sports, Strategy'\n",
      " 'Action, Adventure, Indie, RPG, Simulation, Strategy'\n",
      " 'Racing, Simulation, Early Access'\n",
      " 'Indie, Simulation, Sports, Strategy, Early Access'\n",
      " 'Action, Adventure, Indie, Massively Multiplayer, Simulation, Early Access'\n",
      " 'Casual, Free to Play, Massively Multiplayer, Simulation'\n",
      " 'Action, Indie, Sports, Early Access'\n",
      " 'Action, Casual, Indie, RPG, Strategy'\n",
      " 'Animation &amp; Modeling, Design &amp; Illustration, Utilities'\n",
      " 'Animation &amp; Modeling, Design &amp; Illustration, Education, Utilities, Early Access'\n",
      " 'Casual, Free to Play, Indie, RPG'\n",
      " 'Action, Indie, RPG, Simulation, Early Access'\n",
      " 'Casual, Simulation, Sports'\n",
      " 'Action, Adventure, Casual, Free to Play, Indie, Early Access'\n",
      " 'Action, Massively Multiplayer, Early Access'\n",
      " 'Adventure, Casual, Indie, Strategy'\n",
      " 'Action, Adventure, Casual, Indie, Simulation, Strategy'\n",
      " 'Adventure, Indie, Simulation, Strategy'\n",
      " 'Free to Play, Simulation, Strategy'\n",
      " 'Action, Casual, Indie, RPG, Early Access'\n",
      " 'Action, Indie, Racing, Sports'\n",
      " 'Action, Adventure, Casual, Indie, Massively Multiplayer, RPG, Simulation, Strategy'\n",
      " 'Casual, Racing, Sports' 'Casual, Free to Play, Strategy'\n",
      " 'Action, Adventure, Casual, Indie, Simulation, Sports'\n",
      " 'Free to Play, RPG, Strategy' 'Action, Indie, Massively Multiplayer'\n",
      " 'Free to Play, Sports' 'Adventure, Casual, Simulation, Strategy'\n",
      " 'Action, Simulation, Strategy, Early Access'\n",
      " 'Action, Casual, Free to Play, Strategy'\n",
      " 'Action, Casual, Free to Play, Indie, RPG'\n",
      " 'Action, Massively Multiplayer, Racing, RPG, Simulation'\n",
      " 'Action, Casual, Free to Play, Indie, RPG, Strategy'\n",
      " 'Action, Free to Play, Indie, Early Access'\n",
      " 'Casual, Indie, Sports, Strategy' 'Action, Casual, Massively Multiplayer'\n",
      " 'Action, Casual, Indie, RPG, Simulation, Strategy'\n",
      " 'Action, Casual, Indie, RPG' 'Action, Casual, Racing'\n",
      " 'Indie, Simulation, Sports, Early Access'\n",
      " 'Action, Indie, Racing, Simulation' 'Action, Simulation, Sports'\n",
      " 'Free to Play, Indie, Massively Multiplayer, Strategy'\n",
      " 'Indie, RPG, Sports, Strategy, Early Access'\n",
      " 'Adventure, Indie, Simulation, Strategy, Early Access'\n",
      " 'Action, Indie, RPG, Strategy, Early Access'\n",
      " 'Adventure, Casual, Indie, Sports'\n",
      " 'Action, Free to Play, Indie, Massively Multiplayer, Simulation'\n",
      " 'Casual, Indie, Simulation, Sports, Strategy'\n",
      " 'Action, Casual, Free to Play, Indie'\n",
      " 'Action, Adventure, Casual, Indie, Early Access'\n",
      " 'Action, Free to Play, Indie, Massively Multiplayer, Sports'\n",
      " 'Free to Play, RPG' 'Adventure, Indie, Massively Multiplayer, RPG'\n",
      " 'Action, Adventure, Casual, Indie, RPG, Simulation, Strategy, Early Access'\n",
      " 'Adventure, Free to Play'\n",
      " 'Action, Adventure, Casual, Indie, RPG, Simulation'\n",
      " 'Free to Play, Massively Multiplayer'\n",
      " 'Indie, RPG, Simulation, Strategy, Early Access'\n",
      " 'Animation &amp; Modeling, Design &amp; Illustration, Web Publishing'\n",
      " 'Adventure, Indie, Strategy, Early Access'\n",
      " 'Adventure, Casual, Free to Play'\n",
      " 'Audio Production, Design &amp; Illustration, Photo Editing, Utilities, Video Production, Web Publishing'\n",
      " 'Adventure, Indie, RPG, Simulation, Early Access'\n",
      " 'Animation &amp; Modeling, Utilities' 'Software Training'\n",
      " 'Free to Play, Sports, Strategy'\n",
      " 'Action, Adventure, Casual, Indie, Racing'\n",
      " 'Action, Free to Play, Simulation, Strategy'\n",
      " 'Action, Adventure, Indie, Massively Multiplayer, RPG, Early Access'\n",
      " 'Indie, Racing, Early Access'\n",
      " 'Action, Adventure, Free to Play, RPG, Simulation'\n",
      " 'Casual, Free to Play, Indie, RPG, Simulation, Strategy'\n",
      " 'Design &amp; Illustration, Photo Editing, Utilities'\n",
      " 'Action, Casual, Indie, Simulation, Sports, Early Access'\n",
      " 'Casual, Indie, Massively Multiplayer, Strategy'\n",
      " 'Action, Adventure, Indie, RPG, Strategy, Early Access'\n",
      " 'Adventure, Casual, Indie, RPG, Simulation, Strategy'\n",
      " 'Free to Play, Massively Multiplayer, Strategy'\n",
      " 'Action, Indie, RPG, Simulation'\n",
      " 'Casual, Free to Play, Indie, Strategy, Early Access'\n",
      " 'Adventure, Early Access'\n",
      " 'Free to Play, Massively Multiplayer, Simulation, Sports'\n",
      " 'Indie, RPG, Early Access' 'Action, Adventure, Simulation, Early Access'\n",
      " 'Action, Free to Play, Massively Multiplayer, Simulation, Strategy'\n",
      " 'Action, Adventure, Indie, RPG, Simulation' 'Action, Adventure, Sports'\n",
      " 'Audio Production, Education, Software Training, Video Production, Web Publishing'\n",
      " 'Action, Indie, Simulation, Strategy, Early Access'\n",
      " 'Action, Indie, Massively Multiplayer, RPG, Early Access'\n",
      " 'Action, Adventure, Casual, Indie, RPG, Strategy, Early Access'\n",
      " 'Action, Adventure, Casual, Indie, Massively Multiplayer, Simulation'\n",
      " 'Adventure, Casual, Strategy'\n",
      " 'Casual, Free to Play, Massively Multiplayer, Sports, Strategy'\n",
      " 'Accounting' 'Action, RPG, Early Access'\n",
      " 'Indie, Massively Multiplayer, RPG'\n",
      " 'Indie, Racing, Simulation, Sports, Early Access'\n",
      " 'Action, Casual, Free to Play, Indie, Strategy'\n",
      " 'Free to Play, Indie, Massively Multiplayer, Simulation, Sports, Strategy'\n",
      " 'Action, Adventure, Casual, Indie, Simulation, Strategy, Early Access'\n",
      " 'Free to Play, Indie, Massively Multiplayer, RPG, Strategy, Early Access'\n",
      " 'Adventure, Casual, Indie, Early Access'\n",
      " 'Audio Production, Software Training, Utilities, Video Production, Web Publishing'\n",
      " 'Action, Adventure, Massively Multiplayer, Early Access'\n",
      " 'Adventure, Casual, Free to Play, Indie, Massively Multiplayer, RPG, Strategy'\n",
      " 'Indie, RPG, Strategy, Early Access'\n",
      " 'Casual, Indie, RPG, Simulation, Strategy'\n",
      " 'Casual, Indie, RPG, Simulation, Sports, Strategy'\n",
      " 'Free to Play, Indie, Massively Multiplayer, RPG, Strategy'\n",
      " 'Free to Play, Massively Multiplayer, RPG, Strategy'\n",
      " 'Free to Play, Indie, RPG, Simulation'\n",
      " 'Action, Casual, Indie, Simulation, Sports, Strategy'\n",
      " 'Free to Play, Indie, RPG, Strategy, Early Access'\n",
      " 'Action, Adventure, Indie, Racing, Simulation, Sports'\n",
      " 'Action, Adventure, Casual, Racing, RPG, Sports, Strategy'\n",
      " 'Free to Play, Indie, Simulation, Early Access'\n",
      " 'Adventure, Indie, Simulation, Early Access'\n",
      " 'Adventure, Free to Play, Indie, RPG, Early Access'\n",
      " 'Action, Adventure, Indie, Simulation, Strategy'\n",
      " 'Casual, RPG, Simulation' 'Strategy, Early Access'\n",
      " 'Casual, Free to Play, Simulation'\n",
      " 'Free to Play, Massively Multiplayer, Simulation, Strategy'\n",
      " 'Action, Adventure, Indie, Racing, Early Access'\n",
      " 'Audio Production, Software Training, Utilities'\n",
      " 'Action, Massively Multiplayer' 'Action, Casual, Simulation'\n",
      " 'Sports, Strategy, Early Access'\n",
      " 'Animation &amp; Modeling, Audio Production, Software Training, Utilities, Video Production'\n",
      " 'Adventure, Free to Play, Massively Multiplayer, RPG'\n",
      " 'Action, Casual, Indie, Sports, Early Access'\n",
      " 'Action, Casual, Free to Play, Indie, Sports, Early Access'\n",
      " 'Casual, Free to Play, RPG'\n",
      " 'Action, Adventure, Indie, Massively Multiplayer, Simulation'\n",
      " 'Action, Indie, Racing, Simulation, Sports'\n",
      " 'Action, Adventure, Massively Multiplayer, RPG, Simulation, Strategy'\n",
      " 'Action, Adventure, Indie, Racing, Sports, Strategy'\n",
      " 'Action, Adventure, Casual, Indie, Racing, Simulation'\n",
      " 'Animation &amp; Modeling, Design &amp; Illustration, Utilities, Early Access'\n",
      " 'Action, Free to Play, Indie, Massively Multiplayer, RPG, Simulation'\n",
      " 'Casual, Free to Play, Simulation, Sports' 'Utilities, Video Production'\n",
      " 'Indie, Massively Multiplayer, Strategy, Early Access'\n",
      " 'Casual, Free to Play, Massively Multiplayer, Strategy'\n",
      " 'Adventure, Casual, RPG, Strategy'\n",
      " 'Action, Indie, Massively Multiplayer, Early Access'\n",
      " 'Action, Casual, Free to Play, Indie, RPG, Sports, Early Access'\n",
      " 'Action, Indie, Racing, Simulation, Sports, Strategy'\n",
      " 'Indie, Racing, Simulation' 'Design &amp; Illustration, Utilities'\n",
      " 'Web Publishing' 'Action, Adventure, Free to Play, Indie, Early Access'\n",
      " 'Action, Casual, Free to Play, Indie, RPG, Sports'\n",
      " 'Action, Casual, Massively Multiplayer, Early Access'\n",
      " 'Action, Adventure, Casual, Indie, Sports, Early Access'\n",
      " 'Adventure, Massively Multiplayer, RPG'\n",
      " 'Action, Adventure, Casual, Racing, Simulation, Sports'\n",
      " 'Action, Casual, Indie, Simulation, Sports'\n",
      " 'Action, Casual, Free to Play'\n",
      " 'Casual, Free to Play, Massively Multiplayer, RPG, Simulation, Strategy'\n",
      " 'Action, Adventure, Indie, RPG, Simulation, Sports'\n",
      " 'Casual, Free to Play, Indie, Simulation, Strategy, Early Access'\n",
      " 'Action, Adventure, Casual, Free to Play, Indie, Massively Multiplayer, RPG, Simulation'\n",
      " 'Action, Casual, Indie, Massively Multiplayer, Simulation, Strategy, Early Access'\n",
      " 'Action, Early Access'\n",
      " 'Free to Play, Indie, Massively Multiplayer, RPG, Simulation, Strategy'\n",
      " 'Adventure, Free to Play, RPG, Strategy'\n",
      " 'Action, Casual, Free to Play, Indie, Simulation, Sports, Strategy'\n",
      " 'Casual, Free to Play, Indie, Simulation, Sports, Strategy'\n",
      " 'Action, Adventure, Strategy, Early Access'\n",
      " 'Action, Adventure, Massively Multiplayer'\n",
      " 'Design &amp; Illustration, Education, Photo Editing, Software Training'\n",
      " 'Indie, Massively Multiplayer, RPG, Simulation'\n",
      " 'Indie, Racing, RPG, Sports' 'Adventure, Casual, RPG, Early Access'\n",
      " 'Free to Play, Indie, Simulation' 'Action, Free to Play, Racing, Sports'\n",
      " 'Casual, Indie, Simulation, Early Access'\n",
      " 'Casual, RPG, Strategy, Early Access'\n",
      " 'Action, Casual, Strategy, Early Access'\n",
      " 'Action, Adventure, Indie, Massively Multiplayer, RPG, Simulation, Early Access'\n",
      " 'Free to Play, Racing, Simulation, Sports, Early Access'\n",
      " 'Action, Adventure, Casual, Indie, Sports'\n",
      " 'Action, Casual, Free to Play, Indie, Massively Multiplayer'\n",
      " 'Action, Casual, Indie, Massively Multiplayer'\n",
      " 'Free to Play, Indie, Racing, Sports'\n",
      " 'Action, Adventure, Casual, Free to Play, Indie, Simulation, Sports, Strategy'\n",
      " 'Action, Simulation, Sports, Strategy'\n",
      " 'Action, Adventure, Casual, Massively Multiplayer'\n",
      " 'Action, Adventure, Free to Play, Sports, Strategy' 'Photo Editing'\n",
      " 'Action, Free to Play, Indie, Simulation'\n",
      " 'Action, Free to Play, Indie, Massively Multiplayer, RPG, Early Access'\n",
      " 'Action, Adventure, Casual, Indie, Simulation, Early Access'\n",
      " 'Casual, Free to Play, Massively Multiplayer, Strategy, Early Access'\n",
      " 'Action, Casual, Free to Play, RPG' 'Casual, Early Access'\n",
      " 'Action, Casual, Simulation, Sports, Strategy'\n",
      " 'Casual, Indie, Massively Multiplayer, RPG, Early Access'\n",
      " 'Audio Production, Design &amp; Illustration, Utilities, Video Production'\n",
      " 'Action, Casual, Indie, Massively Multiplayer, Simulation, Sports'\n",
      " 'Casual, Indie, RPG, Early Access' 'Adventure, Simulation, Early Access'\n",
      " 'Action, Casual, Indie, Simulation, Strategy, Early Access'\n",
      " 'Adventure, Casual, Free to Play, Indie, Simulation, Sports, Strategy'\n",
      " 'Casual, Free to Play, Massively Multiplayer, Simulation, Sports'\n",
      " 'Adventure, Free to Play, RPG' 'Indie, Racing, RPG, Simulation'\n",
      " 'Action, Adventure, Casual, Indie, RPG, Sports'\n",
      " 'Free to Play, Indie, Strategy, Early Access'\n",
      " 'Action, Casual, Indie, RPG, Sports, Strategy, Early Access'\n",
      " 'Indie, Massively Multiplayer, RPG, Simulation, Strategy'\n",
      " 'Action, Indie, Sports, Strategy, Early Access'\n",
      " 'Design &amp; Illustration, Photo Editing, Software Training, Utilities, Video Production'\n",
      " 'Audio Production, Software Training, Utilities, Video Production'\n",
      " 'Action, Adventure, Casual, Free to Play, Indie, RPG'\n",
      " 'Casual, Free to Play, Indie, RPG, Simulation, Strategy, Early Access'\n",
      " 'Animation &amp; Modeling, Design &amp; Illustration, Education, Software Training, Video Production, Web Publishing'\n",
      " 'Action, Free to Play, Massively Multiplayer, Simulation, Early Access'\n",
      " 'Action, Adventure, Casual, Indie, Racing, Sports'\n",
      " 'Casual, Indie, Sports, Early Access'\n",
      " 'Massively Multiplayer, Racing, Simulation, Sports'\n",
      " 'Casual, RPG, Strategy'\n",
      " 'Design &amp; Illustration, Photo Editing, Video Production'\n",
      " 'Animation &amp; Modeling, Design &amp; Illustration, Education, Software Training, Utilities, Video Production, Web Publishing'\n",
      " 'Action, Free to Play, Indie, Racing, Sports, Strategy'\n",
      " 'Adventure, Simulation, Sports'\n",
      " 'Casual, Indie, Simulation, Sports, Early Access'\n",
      " 'Adventure, Casual, Indie, Simulation, Sports, Strategy'\n",
      " 'Action, Adventure, Free to Play, Massively Multiplayer, RPG, Strategy'\n",
      " 'Action, Casual, Free to Play, Massively Multiplayer, Sports, Strategy'\n",
      " 'Action, Massively Multiplayer, RPG, Early Access'\n",
      " 'Action, Casual, Indie, Strategy, Early Access'\n",
      " 'Design &amp; Illustration, Education, Photo Editing, Software Training, Utilities'\n",
      " 'Design &amp; Illustration, Early Access'\n",
      " 'Adventure, Indie, RPG, Strategy, Early Access'\n",
      " 'Adventure, Casual, Free to Play, Indie, Simulation'\n",
      " 'Action, Indie, RPG, Simulation, Strategy'\n",
      " 'Animation &amp; Modeling, Design &amp; Illustration, Education, Utilities, Web Publishing'\n",
      " 'Adventure, Casual, Indie, Racing, Simulation'\n",
      " 'Action, Casual, Indie, Simulation, Early Access'\n",
      " 'Simulation, Early Access' 'Casual, Indie, Racing, Sports, Early Access'\n",
      " 'Action, Free to Play, Massively Multiplayer, Early Access'\n",
      " 'Utilities, Early Access'\n",
      " 'Action, Indie, Massively Multiplayer, Simulation'\n",
      " 'Animation &amp; Modeling, Design &amp; Illustration, Education, Photo Editing, Software Training, Video Production'\n",
      " 'Massively Multiplayer, RPG, Strategy'\n",
      " 'Casual, Indie, RPG, Simulation, Strategy, Early Access'\n",
      " 'Action, Indie, Massively Multiplayer, RPG, Simulation, Early Access'\n",
      " 'Sports, Early Access' 'Adventure, Strategy, Early Access'\n",
      " 'Action, RPG, Simulation, Strategy'\n",
      " 'Action, Indie, Massively Multiplayer, Simulation, Strategy'\n",
      " 'Adventure, Casual, Indie, Racing'\n",
      " 'Casual, Free to Play, Massively Multiplayer, RPG'\n",
      " 'Action, Free to Play, Indie, RPG, Strategy'\n",
      " 'Action, Adventure, Free to Play, Massively Multiplayer, RPG, Simulation'\n",
      " 'Action, Adventure, Free to Play, Indie, RPG, Strategy'\n",
      " 'Adventure, Casual, Indie, RPG, Simulation, Early Access'\n",
      " 'Action, Adventure, Simulation, Strategy'\n",
      " 'Action, Free to Play, Indie, Massively Multiplayer, Strategy'\n",
      " 'Free to Play, Simulation, Sports'\n",
      " 'Action, Casual, Indie, Massively Multiplayer, Strategy'\n",
      " 'Adventure, Simulation, Strategy'\n",
      " 'Action, Indie, Massively Multiplayer, Strategy'\n",
      " 'Animation &amp; Modeling, Design &amp; Illustration, Education, Utilities'\n",
      " 'Action, Free to Play, Indie, Massively Multiplayer, RPG, Strategy'\n",
      " 'Animation &amp; Modeling, Audio Production, Design &amp; Illustration, Utilities, Video Production, Web Publishing'\n",
      " 'Action, Free to Play, Massively Multiplayer, Racing'\n",
      " 'Action, Adventure, Massively Multiplayer, RPG'\n",
      " 'Casual, Free to Play, Massively Multiplayer, Sports'\n",
      " 'Adventure, Casual, Indie, Sports, Strategy'\n",
      " 'Action, Adventure, Free to Play, RPG'\n",
      " 'Free to Play, Indie, Early Access' 'Indie, Sports, Early Access'\n",
      " 'Adventure, Casual, Indie, Massively Multiplayer, Strategy, Early Access'\n",
      " 'Utilities, Web Publishing' 'Racing, Simulation, Sports, Strategy'\n",
      " 'Adventure, Casual, Indie, Massively Multiplayer, RPG, Strategy, Early Access'\n",
      " 'Casual, RPG, Simulation, Strategy'\n",
      " 'Action, Massively Multiplayer, Racing, Simulation, Early Access'\n",
      " 'Action, Massively Multiplayer, Racing, Simulation, Sports'\n",
      " 'Action, Massively Multiplayer, Racing, Simulation'\n",
      " 'Adventure, Casual, Indie, RPG, Simulation, Sports'\n",
      " 'Action, Adventure, Indie, Sports' 'Casual, Indie, Racing, Strategy'\n",
      " 'Action, Adventure, Indie, Massively Multiplayer, RPG, Strategy'\n",
      " 'Adventure, Indie, Sports'\n",
      " 'Adventure, Casual, Free to Play, Strategy, Early Access'\n",
      " 'Action, Indie, Racing, Sports, Early Access'\n",
      " 'Free to Play, Indie, Simulation, Strategy, Early Access'\n",
      " 'Action, Adventure, Racing, RPG' 'Free to Play, Strategy, Early Access'\n",
      " 'RPG, Early Access' 'Action, Casual, Indie, Racing, Early Access'\n",
      " 'Casual, Free to Play, Indie, Massively Multiplayer'\n",
      " 'Action, Casual, Indie, RPG, Simulation'\n",
      " 'Action, Adventure, Casual, Indie, Massively Multiplayer, Racing, RPG, Simulation, Sports, Strategy'\n",
      " 'Casual, Free to Play, Indie, Simulation, Early Access'\n",
      " 'Action, Adventure, Free to Play, Indie, Massively Multiplayer, Racing, RPG, Strategy, Early Access'\n",
      " 'Adventure, Free to Play, Massively Multiplayer, Strategy'\n",
      " 'Indie, Racing, Simulation, Early Access'\n",
      " 'Adventure, Casual, Indie, Racing, Simulation, Early Access'\n",
      " 'Accounting, Utilities' 'Action, Adventure, Indie, Racing, Simulation'\n",
      " 'Adventure, Casual, Indie, Racing, Simulation, Sports, Early Access'\n",
      " 'Action, Casual, Free to Play, Indie, Simulation, Strategy'\n",
      " 'Indie, Sports, Strategy'\n",
      " 'Action, Adventure, Casual, Indie, Racing, Simulation, Sports, Strategy'\n",
      " 'Action, Adventure, Casual, Indie, Massively Multiplayer, Strategy'\n",
      " 'Action, Adventure, Casual, Indie, Simulation, Sports, Strategy'\n",
      " 'Casual, Indie, Sports, Strategy, Early Access'\n",
      " 'Action, Free to Play, Simulation'\n",
      " 'Animation &amp; Modeling, Audio Production, Design &amp; Illustration, Software Training, Video Production'\n",
      " 'Adventure, Casual, Indie, Racing, RPG, Simulation, Sports, Strategy'\n",
      " 'Casual, Indie, Simulation, Sports' 'Indie, Massively Multiplayer'\n",
      " 'Education, Utilities' 'Action, Free to Play, Strategy, Early Access'\n",
      " 'Action, Indie, Sports, Strategy'\n",
      " 'Adventure, Casual, Indie, RPG, Simulation, Sports, Strategy'\n",
      " 'Free to Play, Indie, RPG' 'Action, Massively Multiplayer, RPG, Strategy'\n",
      " 'Action, Adventure, Casual, Indie, Racing, Simulation, Sports'\n",
      " 'Casual, Indie, Massively Multiplayer, Early Access'\n",
      " 'Action, Adventure, Casual, Indie, Racing, Sports, Strategy'\n",
      " 'Action, Casual, Free to Play, Massively Multiplayer, Simulation, Strategy'\n",
      " 'Casual, Indie, Racing, Sports'\n",
      " 'Action, Adventure, Free to Play, Indie, Simulation'\n",
      " 'Audio Production, Education, Utilities, Video Production'\n",
      " 'Action, Adventure, Free to Play, Indie, Massively Multiplayer'\n",
      " 'Indie, Massively Multiplayer, Simulation, Sports, Early Access'\n",
      " 'Indie, RPG, Simulation, Sports, Strategy, Early Access'\n",
      " 'Adventure, Casual, Free to Play, Massively Multiplayer, RPG'\n",
      " 'Adventure, Free to Play, Indie, Strategy, Early Access'\n",
      " 'Adventure, Casual, Early Access' 'Action, Casual, RPG, Strategy'\n",
      " 'Adventure, Casual, Indie, Racing, Simulation, Sports'\n",
      " 'Action, Casual, Indie, RPG, Sports'\n",
      " 'Action, Casual, Free to Play, Indie, Simulation, Sports'\n",
      " 'Adventure, Casual, Indie, Simulation, Early Access'\n",
      " 'Adventure, Casual, Indie, Simulation, Sports'\n",
      " 'Adventure, Free to Play, Indie, RPG, Strategy'\n",
      " 'Adventure, Casual, Indie, RPG, Strategy, Early Access'\n",
      " 'Casual, Free to Play, Massively Multiplayer'\n",
      " 'Action, Adventure, Free to Play, RPG, Early Access'\n",
      " 'Adventure, Casual, Indie, Racing, RPG, Simulation, Strategy'\n",
      " 'Indie, RPG, Simulation, Sports, Strategy'\n",
      " 'Indie, RPG, Simulation, Sports'\n",
      " 'Action, Adventure, Casual, Indie, Racing, Strategy, Early Access'\n",
      " 'Action, Adventure, Casual, Indie, Racing, RPG'\n",
      " 'Action, Adventure, Indie, Simulation, Strategy, Early Access'\n",
      " 'Action, Adventure, Casual, Free to Play, Massively Multiplayer, Simulation, Sports'\n",
      " 'Adventure, Casual, Massively Multiplayer, Simulation'\n",
      " 'Indie, Massively Multiplayer, Simulation, Early Access'\n",
      " 'Action, Casual, RPG' 'RPG, Simulation, Early Access'\n",
      " 'Casual, Simulation, Strategy, Early Access'\n",
      " 'Free to Play, Indie, Simulation, Strategy'\n",
      " 'Casual, Indie, Massively Multiplayer, Simulation, Sports, Strategy'\n",
      " 'Adventure, Casual, Indie, Racing, RPG, Simulation, Strategy, Early Access'\n",
      " 'Free to Play, Massively Multiplayer, Strategy, Early Access'\n",
      " 'Action, Adventure, Casual, Indie, Racing, Simulation, Sports, Strategy, Early Access'\n",
      " 'Animation &amp; Modeling, Design &amp; Illustration, Photo Editing, Utilities'\n",
      " 'Action, Adventure, Free to Play, Indie, Strategy'\n",
      " 'Action, Adventure, Free to Play, Indie, Massively Multiplayer, Early Access'\n",
      " 'Action, Adventure, Indie, RPG, Simulation, Early Access'\n",
      " 'Action, Indie, Massively Multiplayer, RPG'\n",
      " 'Audio Production, Utilities, Early Access'\n",
      " 'Adventure, Casual, RPG, Simulation'\n",
      " 'Adventure, Free to Play, Indie, RPG, Strategy, Early Access'\n",
      " 'Animation &amp; Modeling, Audio Production, Design &amp; Illustration, Utilities, Video Production'\n",
      " 'Action, Adventure, Casual, RPG, Strategy, Early Access'\n",
      " 'Design &amp; Illustration, Utilities, Early Access'\n",
      " 'Action, Adventure, Casual, Simulation'\n",
      " 'Adventure, Indie, Racing, Strategy, Early Access'\n",
      " 'Adventure, Indie, Racing, Simulation, Early Access'\n",
      " 'Action, Casual, Indie, RPG, Strategy, Early Access'\n",
      " 'Action, Indie, Racing, Simulation, Early Access'\n",
      " 'Casual, Indie, Massively Multiplayer, Simulation, Early Access'\n",
      " 'Action, Free to Play, Massively Multiplayer, Strategy'\n",
      " 'Action, Adventure, Free to Play, Indie, Simulation, Strategy'\n",
      " 'Action, Free to Play, Indie, Massively Multiplayer, Early Access'\n",
      " 'Indie, Simulation, Audio Production, Early Access'\n",
      " 'Action, Adventure, Indie, Massively Multiplayer, Strategy'\n",
      " 'Action, Free to Play, Indie, Racing, Simulation, Sports, Early Access'\n",
      " 'Casual, Simulation, Early Access' 'Action, RPG, Strategy, Early Access'\n",
      " 'RPG, Simulation, Strategy, Early Access'\n",
      " 'Casual, Free to Play, Indie, Sports' 'Action, Adventure, Early Access'\n",
      " 'Action, Casual, Free to Play, Strategy, Early Access'\n",
      " 'Indie, Racing, Strategy'\n",
      " 'Adventure, Free to Play, Indie, Massively Multiplayer, RPG, Strategy, Early Access'\n",
      " 'Adventure, Free to Play, Indie, Massively Multiplayer, RPG'\n",
      " 'Animation &amp; Modeling, Utilities, Video Production, Early Access'\n",
      " 'Free to Play, Racing, Simulation, Early Access'\n",
      " 'Action, Indie, Simulation, Sports, Early Access'\n",
      " 'Education, Early Access'\n",
      " 'Action, Adventure, Free to Play, Indie, Strategy, Early Access'\n",
      " 'Accounting, Animation &amp; Modeling, Audio Production, Design &amp; Illustration, Education, Photo Editing, Software Training, Utilities, Video Production, Web Publishing'\n",
      " 'Audio Production, Video Production'\n",
      " 'Casual, Free to Play, Sports, Strategy'\n",
      " 'Action, Free to Play, Indie, Massively Multiplayer, Simulation, Strategy, Early Access'\n",
      " 'Action, Casual, Indie, Racing, Simulation, Sports, Early Access'\n",
      " 'Action, Free to Play, Sports'\n",
      " 'Action, Adventure, Casual, RPG, Early Access'\n",
      " 'Action, Casual, Massively Multiplayer, Strategy, Early Access'\n",
      " 'Action, Casual, Indie, Sports, Strategy'\n",
      " 'Action, Adventure, Casual, Indie, Massively Multiplayer'\n",
      " 'Action, Casual, Simulation, Early Access'\n",
      " 'Action, Massively Multiplayer, RPG, Simulation' 'Racing, Early Access'\n",
      " 'Action, Casual, Massively Multiplayer, Racing, Simulation, Sports'\n",
      " 'Action, Adventure, Casual, Free to Play, Indie, Massively Multiplayer, Early Access'\n",
      " 'Action, Casual, Sports'\n",
      " 'Action, Adventure, Casual, Indie, Racing, Sports, Early Access'\n",
      " 'Action, Indie, Animation &amp; Modeling, Design &amp; Illustration'\n",
      " 'Adventure, Free to Play, Simulation'\n",
      " 'Adventure, Casual, Indie, Simulation, Strategy, Early Access'\n",
      " 'Action, Adventure, Massively Multiplayer, RPG, Simulation, Early Access'\n",
      " 'Action, Adventure, Free to Play, Strategy' 'Adventure, Racing, Sports'\n",
      " 'Adventure, RPG, Simulation'\n",
      " 'Utilities, Video Production, Web Publishing'\n",
      " 'Adventure, Indie, Racing, Simulation, Sports'\n",
      " 'Action, Adventure, Casual, Free to Play, Indie'\n",
      " 'Design &amp; Illustration, Utilities, Web Publishing, Early Access'\n",
      " 'Action, Adventure, Massively Multiplayer, Racing, Simulation'\n",
      " 'Animation &amp; Modeling, Utilities, Early Access'\n",
      " 'Adventure, Free to Play, Indie, Simulation'\n",
      " 'Adventure, Free to Play, Strategy'\n",
      " 'Action, Casual, Massively Multiplayer, Simulation, Strategy'\n",
      " 'Free to Play, RPG, Early Access'\n",
      " 'Adventure, Free to Play, Indie, Massively Multiplayer'\n",
      " 'Adventure, Casual, RPG, Strategy, Early Access'\n",
      " 'Action, Sports, Strategy, Early Access'\n",
      " 'Action, Casual, Free to Play, Indie, Sports'\n",
      " 'Action, Adventure, Indie, Racing, Sports'\n",
      " 'Action, Adventure, Indie, Simulation, Sports, Early Access'\n",
      " 'Action, Adventure, Casual, Indie, RPG, Simulation, Early Access'\n",
      " 'Casual, Indie, Racing, Simulation, Sports'\n",
      " 'Indie, Massively Multiplayer, Racing, Simulation, Early Access'\n",
      " 'Action, Casual, Free to Play, Massively Multiplayer, RPG'\n",
      " 'Casual, RPG, Simulation, Early Access'\n",
      " 'Action, Adventure, RPG, Simulation' 'Action, Racing, Simulation'\n",
      " 'Action, Adventure, Free to Play, Indie, RPG, Early Access'\n",
      " 'Free to Play, RPG, Simulation' 'Casual, Free to Play, RPG, Early Access'\n",
      " 'Casual, Free to Play, Sports'\n",
      " 'Free to Play, Indie, Massively Multiplayer'\n",
      " 'Massively Multiplayer, Strategy, Early Access' 'Early Access'\n",
      " 'Action, Free to Play, Indie, Massively Multiplayer, Racing, Simulation, Early Access'\n",
      " 'Action, Adventure, Indie, Simulation, Sports'\n",
      " 'Action, Adventure, Indie, Racing, Strategy' 'Indie, Simulation, Sports'\n",
      " 'Action, Casual, Indie, Massively Multiplayer, Simulation'\n",
      " 'Action, Adventure, Massively Multiplayer, RPG, Strategy, Early Access'\n",
      " 'Action, Casual, Free to Play, Massively Multiplayer, RPG, Strategy'\n",
      " 'Design &amp; Illustration, Photo Editing, Web Publishing'\n",
      " 'Adventure, Indie, Massively Multiplayer'\n",
      " 'Indie, Racing, Simulation, Strategy' 'Racing, Simulation, Strategy'\n",
      " 'Audio Production, Education, Software Training, Utilities, Video Production'\n",
      " 'Free to Play, Massively Multiplayer, RPG, Strategy, Early Access'\n",
      " 'Action, Casual, Indie, Racing, Simulation, Early Access'\n",
      " 'Indie, Massively Multiplayer, Racing, Simulation, Sports'\n",
      " 'Action, Free to Play, Indie, Simulation, Strategy, Early Access'\n",
      " 'Action, Free to Play, Indie, Simulation, Strategy'\n",
      " 'Adventure, Massively Multiplayer, RPG, Strategy'\n",
      " 'Action, RPG, Simulation, Early Access'\n",
      " 'Action, Casual, Indie, Racing, RPG, Simulation, Strategy, Early Access'\n",
      " 'Indie, Racing, Sports, Strategy, Early Access'\n",
      " 'Utilities, Video Production, Early Access'\n",
      " 'Action, Adventure, Free to Play, Indie, Massively Multiplayer, RPG, Early Access'\n",
      " 'Free to Play, Massively Multiplayer, Racing'\n",
      " 'Action, Casual, Free to Play, Indie, Early Access'\n",
      " 'Adventure, Simulation, Strategy, Early Access'\n",
      " 'Free to Play, Indie, Sports, Strategy'\n",
      " 'Animation &amp; Modeling, Design &amp; Illustration, Early Access'\n",
      " 'Action, Adventure, Casual, Indie, Racing, RPG, Simulation, Strategy, Early Access'\n",
      " 'Action, Adventure, Casual, Massively Multiplayer, RPG, Early Access'\n",
      " 'Adventure, Casual, Free to Play, RPG, Simulation, Strategy'\n",
      " 'Racing, Simulation, Sports, Early Access'\n",
      " 'Casual, Free to Play, RPG, Strategy'\n",
      " 'Massively Multiplayer, Simulation, Sports, Early Access'\n",
      " 'Adventure, Casual, Indie, Strategy, Early Access'\n",
      " 'Action, Adventure, Casual, Indie, Racing, RPG, Simulation, Early Access'\n",
      " 'Action, Adventure, Massively Multiplayer, Simulation, Early Access'\n",
      " 'Casual, Indie, Racing, Early Access'\n",
      " 'Action, Adventure, Casual, Indie, Simulation, Sports, Early Access'\n",
      " 'Action, Adventure, Casual, Free to Play, Indie, Simulation'\n",
      " 'Adventure, Indie, Massively Multiplayer, RPG, Simulation, Early Access'\n",
      " 'Action, Free to Play, Indie, Massively Multiplayer, Strategy, Early Access'\n",
      " 'Racing, RPG, Simulation, Early Access'\n",
      " 'Animation &amp; Modeling, Design &amp; Illustration, Education'\n",
      " 'Free to Play, Indie, Racing, Simulation'\n",
      " 'Adventure, Free to Play, Indie, Massively Multiplayer, RPG, Early Access'\n",
      " 'Free to Play, Indie, Massively Multiplayer, RPG, Early Access'\n",
      " 'Animation &amp; Modeling, Design &amp; Illustration, Education, Photo Editing, Software Training, Utilities, Video Production'\n",
      " 'Design &amp; Illustration, Software Training, Utilities'\n",
      " 'Casual, Free to Play, Indie, Racing'\n",
      " 'Adventure, Casual, RPG, Simulation, Strategy'\n",
      " 'Free to Play, Massively Multiplayer, RPG, Early Access'\n",
      " 'Action, Adventure, Casual, Indie, Massively Multiplayer, Early Access'\n",
      " 'Casual, Free to Play, Indie, Early Access' 'Audio Production, Education'\n",
      " 'Action, Casual, Free to Play, Indie, Racing, Simulation, Sports, Early Access'\n",
      " 'Action, Adventure, Casual, Indie, Racing, RPG, Simulation, Sports'\n",
      " 'Animation &amp; Modeling, Design &amp; Illustration, Photo Editing'\n",
      " 'Free to Play, Indie, Racing, Simulation, Sports'\n",
      " 'Massively Multiplayer, RPG, Simulation'\n",
      " 'Action, Adventure, Indie, Massively Multiplayer, Simulation, Strategy, Early Access'\n",
      " 'Action, Free to Play, Indie, Strategy, Early Access'\n",
      " 'Action, Casual, Free to Play, Indie, Simulation'\n",
      " 'Action, Indie, Massively Multiplayer, Racing, Simulation, Sports'\n",
      " 'Adventure, Indie, RPG, Simulation, Strategy, Early Access'\n",
      " 'Action, Free to Play, Massively Multiplayer, Racing, Early Access'\n",
      " 'Action, Adventure, Indie, Massively Multiplayer'\n",
      " 'Massively Multiplayer, Simulation'\n",
      " 'Casual, Free to Play, Indie, Massively Multiplayer, RPG, Early Access'\n",
      " 'Adventure, Free to Play, Indie, Early Access'\n",
      " 'Adventure, Casual, Indie, Massively Multiplayer, Strategy'\n",
      " 'Action, Simulation, Early Access'\n",
      " 'Action, Free to Play, Massively Multiplayer, RPG, Strategy, Early Access'\n",
      " 'Adventure, Casual, Free to Play, Indie, RPG, Simulation'\n",
      " 'Adventure, Casual, Racing'\n",
      " 'Action, Adventure, Casual, Simulation, Strategy'\n",
      " 'Animation &amp; Modeling, Design &amp; Illustration, Education, Software Training, Utilities, Video Production'\n",
      " 'Action, Massively Multiplayer, Simulation, Early Access'\n",
      " 'Photo Editing, Software Training, Utilities'\n",
      " 'Action, Massively Multiplayer, Racing, RPG, Simulation, Early Access'\n",
      " 'Action, Adventure, Casual, Indie, Racing, RPG, Simulation, Sports, Strategy'\n",
      " 'Education, Software Training, Utilities, Early Access'\n",
      " 'Adventure, Casual, Indie, Massively Multiplayer, Simulation'\n",
      " 'Massively Multiplayer, Strategy'\n",
      " 'Action, Adventure, Massively Multiplayer, Simulation'\n",
      " 'Action, Casual, Indie, Racing, Strategy'\n",
      " 'Animation &amp; Modeling, Design &amp; Illustration, Utilities, Web Publishing'\n",
      " 'Action, Massively Multiplayer, Strategy, Early Access'\n",
      " 'Casual, Indie, RPG, Strategy, Early Access'\n",
      " 'Photo Editing, Utilities, Video Production' 'Action, Indie, RPG, Sports'\n",
      " 'Action, Adventure, Indie, Racing, Simulation, Sports, Early Access'\n",
      " 'Action, Casual, Indie, Massively Multiplayer, Strategy, Early Access'\n",
      " 'Animation &amp; Modeling, Design &amp; Illustration, Photo Editing, Software Training, Utilities, Video Production'\n",
      " 'Action, Free to Play, Massively Multiplayer, RPG, Simulation, Strategy'\n",
      " 'Action, Casual, Free to Play, Massively Multiplayer, RPG, Simulation, Strategy'\n",
      " 'Adventure, Racing' 'Action, Adventure, Casual, Free to Play, Racing'\n",
      " 'Animation &amp; Modeling, Design &amp; Illustration, Photo Editing, Video Production'\n",
      " 'Casual, Indie, Massively Multiplayer, Racing'\n",
      " 'Casual, Free to Play, Indie, Massively Multiplayer, RPG'\n",
      " 'Action, Adventure, Free to Play, Indie, RPG, Simulation, Strategy'\n",
      " 'Action, Free to Play, Indie, RPG, Early Access'\n",
      " 'Free to Play, Indie, Massively Multiplayer, Racing, RPG, Strategy'\n",
      " 'Action, Free to Play, Indie, Sports, Strategy, Early Access'\n",
      " 'Action, Free to Play, Indie, Sports, Strategy'\n",
      " 'Action, Adventure, Casual, Free to Play, Indie, Massively Multiplayer'\n",
      " 'Adventure, Free to Play, Massively Multiplayer, RPG, Simulation'\n",
      " 'Education, Software Training, Utilities, Video Production'\n",
      " 'Action, Adventure, Casual, Free to Play, Indie, Massively Multiplayer, Racing, RPG, Simulation, Sports, Strategy'\n",
      " 'Adventure, Racing, Simulation' 'Adventure, Early Access, Indie, RPG'\n",
      " 'Casual, Free to Play, Indie, RPG, Strategy'\n",
      " 'Design &amp; Illustration, Education, Software Training, Utilities'\n",
      " 'Casual, Early Access, Indie, Simulation, Strategy' 'Action, Racing, RPG'\n",
      " 'Action, Early Access, Free to Play, Strategy'\n",
      " 'Action, Adventure, Early Access, Indie, Strategy'\n",
      " 'Audio Production, Software Training' 'Early Access, Indie'\n",
      " 'Action, Casual, Free to Play, Massively Multiplayer, RPG, Simulation'\n",
      " 'Adventure, Indie, Casual' 'Action, Adventure, RPG, Indie'\n",
      " 'Free to Play, Action, Strategy, Indie, Sports'\n",
      " 'Adventure, Strategy, Indie' 'Action, Strategy, Simulation'\n",
      " 'Sports, Simulation' 'Action, Adventure, Indie, Casual' 'Sports, Casual'\n",
      " 'Sports, Action' 'RPG, Indie, Casual' 'Strategy, Action, Indie'\n",
      " 'Casual, Strategy, Indie' 'Action, Casual, Free to Play, Indie, Racing'\n",
      " 'Adventure, Casual, RPG, Simulation, Early Access']\n"
     ]
    },
    {
     "name": "stderr",
     "output_type": "stream",
     "text": [
      "C:\\Users\\Daniel\\AppData\\Local\\Temp\\ipykernel_14672\\3371732733.py:3: SettingWithCopyWarning: \n",
      "A value is trying to be set on a copy of a slice from a DataFrame.\n",
      "Try using .loc[row_indexer,col_indexer] = value instead\n",
      "\n",
      "See the caveats in the documentation: https://pandas.pydata.org/pandas-docs/stable/user_guide/indexing.html#returning-a-view-versus-a-copy\n",
      "  df[column_name] = df[column_name].apply(lambda x: ', '.join(map(str, x)) if isinstance(x, list) else str(x))\n"
     ]
    }
   ],
   "source": [
    "def show_unique_values(df, column_name):\n",
    "    # Convertir todos los valores de la columna a strings\n",
    "    df[column_name] = df[column_name].apply(lambda x: ', '.join(map(str, x)) if isinstance(x, list) else str(x))\n",
    "    \n",
    "    # Obtener los valores únicos de la columna especificada\n",
    "    unique_values = df[column_name].unique()\n",
    "    \n",
    "    # Devolver el resultado\n",
    "    return unique_values\n",
    "\n",
    "# Llamar a la función para mostrar los valores únicos de la columna 'genres' del DataFrame 'df'\n",
    "result = show_unique_values(df_juegos, 'genres')\n",
    "\n",
    "# Mostrar el resultado\n",
    "print(result)\n"
   ]
  },
  {
   "cell_type": "markdown",
   "metadata": {},
   "source": [
    "Verficamos que no haya listas en genres y que sean de tipo String"
   ]
  },
  {
   "cell_type": "code",
   "execution_count": 47,
   "metadata": {},
   "outputs": [
    {
     "name": "stderr",
     "output_type": "stream",
     "text": [
      "C:\\Users\\Daniel\\AppData\\Local\\Temp\\ipykernel_14672\\3020584514.py:3: FutureWarning: DataFrame.applymap has been deprecated. Use DataFrame.map instead.\n",
      "  type_counts = df.applymap(type).apply(lambda x: {str(k).split(\"'\")[1]: v for k, v in x.value_counts().items()})\n"
     ]
    },
    {
     "name": "stdout",
     "output_type": "stream",
     "text": [
      "          Column                                        Type Counts\n",
      "0      publisher                      {'str': 24083, 'float': 8052}\n",
      "1         genres                                     {'str': 32135}\n",
      "2       app_name                         {'str': 32133, 'float': 2}\n",
      "3          title                      {'str': 30085, 'float': 2050}\n",
      "4            url                                     {'str': 32135}\n",
      "5   release_date  {'pandas._libs.tslibs.timestamps.Timestamp': 2...\n",
      "6           tags                      {'list': 31972, 'float': 163}\n",
      "7    reviews_url                         {'str': 32133, 'float': 2}\n",
      "8          specs                      {'list': 31465, 'float': 670}\n",
      "9          price                                   {'float': 32135}\n",
      "10  early_access                                    {'bool': 32135}\n",
      "11            id                         {'str': 32133, 'float': 2}\n",
      "12     developer                      {'str': 28836, 'float': 3299}\n"
     ]
    }
   ],
   "source": [
    "def count_column_types(df):\n",
    "    # Obtener el tipo de datos de cada columna y contar sus ocurrencias\n",
    "    type_counts = df.applymap(type).apply(lambda x: {str(k).split(\"'\")[1]: v for k, v in x.value_counts().items()})\n",
    "\n",
    "    # Transponer el resultado y restablecer el índice\n",
    "    type_counts = type_counts.T.reset_index()\n",
    "\n",
    "    # Renombrar las columnas\n",
    "    type_counts.columns = ['Column', 'Type Counts']\n",
    "\n",
    "    return type_counts\n",
    "\n",
    "# Llamar a la función en un DataFrame 'df'\n",
    "result = count_column_types(df_juegos)\n",
    "\n",
    "# Mostrar el resultado\n",
    "print(result)\n"
   ]
  },
  {
   "cell_type": "markdown",
   "metadata": {},
   "source": [
    "Vemos el tipo de datos de la columna developer"
   ]
  },
  {
   "cell_type": "code",
   "execution_count": 48,
   "metadata": {},
   "outputs": [
    {
     "name": "stdout",
     "output_type": "stream",
     "text": [
      "['Kotoshiro' 'Secret Level SRL' 'Poolians.com' ... 'VersoVR' 'INGAME'\n",
      " 'Bidoniera Games']\n"
     ]
    }
   ],
   "source": [
    "# Obtener los valores únicos en la columna 'developer'\n",
    "valores_developer = df_juegos['developer'].unique()\n",
    "\n",
    "# Mostrar los valores únicos\n",
    "print(valores_developer)\n"
   ]
  },
  {
   "cell_type": "markdown",
   "metadata": {},
   "source": [
    "Vemos si contiene nan"
   ]
  },
  {
   "cell_type": "code",
   "execution_count": 49,
   "metadata": {},
   "outputs": [
    {
     "name": "stdout",
     "output_type": "stream",
     "text": [
      "Contiene NaN: True\n"
     ]
    }
   ],
   "source": [
    "# Verificar si la columna 'developer' contiene valores NaN\n",
    "contiene_nan = df_juegos['developer'].isnull().any()\n",
    "print(\"Contiene NaN:\", contiene_nan)\n"
   ]
  },
  {
   "cell_type": "markdown",
   "metadata": {},
   "source": [
    "Reemplazamos esos Nan por sin datos"
   ]
  },
  {
   "cell_type": "code",
   "execution_count": 50,
   "metadata": {},
   "outputs": [
    {
     "name": "stderr",
     "output_type": "stream",
     "text": [
      "C:\\Users\\Daniel\\AppData\\Local\\Temp\\ipykernel_14672\\4022700434.py:2: SettingWithCopyWarning: \n",
      "A value is trying to be set on a copy of a slice from a DataFrame\n",
      "\n",
      "See the caveats in the documentation: https://pandas.pydata.org/pandas-docs/stable/user_guide/indexing.html#returning-a-view-versus-a-copy\n",
      "  df_juegos['developer'].fillna(\"Sin datos\", inplace=True)\n"
     ]
    }
   ],
   "source": [
    "# Reemplazar los valores NaN en la columna 'developer' por \"Sin datos\"\n",
    "df_juegos['developer'].fillna(\"Sin datos\", inplace=True)\n"
   ]
  },
  {
   "cell_type": "markdown",
   "metadata": {},
   "source": [
    "Volvemo a verificar q no tenga Nan"
   ]
  },
  {
   "cell_type": "code",
   "execution_count": 51,
   "metadata": {},
   "outputs": [
    {
     "name": "stdout",
     "output_type": "stream",
     "text": [
      "Contiene NaN: False\n"
     ]
    }
   ],
   "source": [
    "# Verificar si la columna 'developer' contiene valores NaN\n",
    "contiene_nan = df_juegos['developer'].isnull().any()\n",
    "print(\"Contiene NaN:\", contiene_nan)"
   ]
  },
  {
   "cell_type": "markdown",
   "metadata": {},
   "source": [
    "Pasamos los valores float que tenia id a string"
   ]
  },
  {
   "cell_type": "code",
   "execution_count": 52,
   "metadata": {},
   "outputs": [
    {
     "name": "stderr",
     "output_type": "stream",
     "text": [
      "C:\\Users\\Daniel\\AppData\\Local\\Temp\\ipykernel_14672\\1645997743.py:2: SettingWithCopyWarning: \n",
      "A value is trying to be set on a copy of a slice from a DataFrame.\n",
      "Try using .loc[row_indexer,col_indexer] = value instead\n",
      "\n",
      "See the caveats in the documentation: https://pandas.pydata.org/pandas-docs/stable/user_guide/indexing.html#returning-a-view-versus-a-copy\n",
      "  df_juegos['id'] = df_juegos['id'].astype(str)\n"
     ]
    }
   ],
   "source": [
    "# Convertir los valores de tipo float en la columna 'id' a cadenas (strings)\n",
    "df_juegos['id'] = df_juegos['id'].astype(str)"
   ]
  },
  {
   "cell_type": "markdown",
   "metadata": {},
   "source": [
    "Verificamos que solo sea de numeros la columna id"
   ]
  },
  {
   "cell_type": "code",
   "execution_count": 53,
   "metadata": {},
   "outputs": [
    {
     "name": "stdout",
     "output_type": "stream",
     "text": [
      "Valores en la columna 'id' que contienen letras:\n",
      "Empty DataFrame\n",
      "Columns: [publisher, genres, app_name, title, url, release_date, tags, reviews_url, specs, price, early_access, id, developer]\n",
      "Index: []\n"
     ]
    }
   ],
   "source": [
    "import pandas as pd\n",
    "import re\n",
    "\n",
    "# Crear una función para verificar si una cadena contiene solo letras\n",
    "def contiene_letras(cadena):\n",
    "    return bool(re.search('[a-zA-Z]', cadena))\n",
    "\n",
    "# Verificar si hay valores en la columna 'id' que contienen solo letras\n",
    "valores_con_letras = df_juegos['id'].apply(lambda x: contiene_letras(x) if isinstance(x, str) and 'id' in x else False)\n",
    "\n",
    "# Mostrar los valores que contienen letras en la columna 'id'\n",
    "valores_letras_id = df_juegos[valores_con_letras]\n",
    "\n",
    "# Mostrar los resultados\n",
    "print(\"Valores en la columna 'id' que contienen letras:\")\n",
    "print(valores_letras_id)\n",
    "\n"
   ]
  },
  {
   "cell_type": "markdown",
   "metadata": {},
   "source": [
    "Creamos una copia del df con las columnas limpias"
   ]
  },
  {
   "cell_type": "code",
   "execution_count": 54,
   "metadata": {},
   "outputs": [],
   "source": [
    "# Crear una copia del DataFrame con las columnas específicas\n",
    "df_games_copia = df_juegos[['genres', 'release_date', 'price', 'developer', 'id']].copy()"
   ]
  },
  {
   "cell_type": "markdown",
   "metadata": {},
   "source": [
    "Eliminamos las filas que no tengan datos entre las 5 columnas limpias"
   ]
  },
  {
   "cell_type": "code",
   "execution_count": 55,
   "metadata": {},
   "outputs": [],
   "source": [
    "\n",
    "# Convertir la columna 'price' a tipo numérico\n",
    "df_games_copia['price'] = pd.to_numeric(df_games_copia['price'], errors='coerce')\n",
    "\n",
    "# Llenar los valores NaN en la columna 'price' con 0.00\n",
    "df_games_copia['price'].fillna(0.00, inplace=True)\n",
    "\n",
    "# Eliminar las filas que cumplan con las condiciones especificadas\n",
    "df_games_copia = df_games_copia[~((df_games_copia['developer'] == 'Sin datos') |\n",
    "                                  (df_games_copia['release_date'].isna()) |\n",
    "                                  (df_games_copia['genres'].isna()))]\n",
    "\n"
   ]
  },
  {
   "cell_type": "code",
   "execution_count": 56,
   "metadata": {},
   "outputs": [
    {
     "data": {
      "text/html": [
       "<div>\n",
       "<style scoped>\n",
       "    .dataframe tbody tr th:only-of-type {\n",
       "        vertical-align: middle;\n",
       "    }\n",
       "\n",
       "    .dataframe tbody tr th {\n",
       "        vertical-align: top;\n",
       "    }\n",
       "\n",
       "    .dataframe thead th {\n",
       "        text-align: right;\n",
       "    }\n",
       "</style>\n",
       "<table border=\"1\" class=\"dataframe\">\n",
       "  <thead>\n",
       "    <tr style=\"text-align: right;\">\n",
       "      <th></th>\n",
       "      <th>genres</th>\n",
       "      <th>release_date</th>\n",
       "      <th>price</th>\n",
       "      <th>developer</th>\n",
       "      <th>id</th>\n",
       "    </tr>\n",
       "  </thead>\n",
       "  <tbody>\n",
       "    <tr>\n",
       "      <th>88310</th>\n",
       "      <td>Action, Casual, Indie, Simulation, Strategy</td>\n",
       "      <td>2018-01-04</td>\n",
       "      <td>4.99</td>\n",
       "      <td>Kotoshiro</td>\n",
       "      <td>761140</td>\n",
       "    </tr>\n",
       "    <tr>\n",
       "      <th>88311</th>\n",
       "      <td>Free to Play, Indie, RPG, Strategy</td>\n",
       "      <td>2018-01-04</td>\n",
       "      <td>0.00</td>\n",
       "      <td>Secret Level SRL</td>\n",
       "      <td>643980</td>\n",
       "    </tr>\n",
       "    <tr>\n",
       "      <th>88312</th>\n",
       "      <td>Casual, Free to Play, Indie, Simulation, Sports</td>\n",
       "      <td>2017-07-24</td>\n",
       "      <td>0.00</td>\n",
       "      <td>Poolians.com</td>\n",
       "      <td>670290</td>\n",
       "    </tr>\n",
       "    <tr>\n",
       "      <th>88313</th>\n",
       "      <td>Action, Adventure, Casual</td>\n",
       "      <td>2017-12-07</td>\n",
       "      <td>0.99</td>\n",
       "      <td>Unknown</td>\n",
       "      <td>767400</td>\n",
       "    </tr>\n",
       "    <tr>\n",
       "      <th>88315</th>\n",
       "      <td>Action, Adventure, Simulation</td>\n",
       "      <td>2018-01-04</td>\n",
       "      <td>3.99</td>\n",
       "      <td>Trickjump Games Ltd</td>\n",
       "      <td>772540</td>\n",
       "    </tr>\n",
       "    <tr>\n",
       "      <th>...</th>\n",
       "      <td>...</td>\n",
       "      <td>...</td>\n",
       "      <td>...</td>\n",
       "      <td>...</td>\n",
       "      <td>...</td>\n",
       "    </tr>\n",
       "    <tr>\n",
       "      <th>120439</th>\n",
       "      <td>Action, Adventure, Casual, Indie</td>\n",
       "      <td>2018-01-04</td>\n",
       "      <td>1.99</td>\n",
       "      <td>Bidoniera Games</td>\n",
       "      <td>745400</td>\n",
       "    </tr>\n",
       "    <tr>\n",
       "      <th>120440</th>\n",
       "      <td>Casual, Indie, Simulation, Strategy</td>\n",
       "      <td>2018-01-04</td>\n",
       "      <td>1.99</td>\n",
       "      <td>Nikita \"Ghost_RUS\"</td>\n",
       "      <td>773640</td>\n",
       "    </tr>\n",
       "    <tr>\n",
       "      <th>120441</th>\n",
       "      <td>Casual, Indie, Strategy</td>\n",
       "      <td>2018-01-04</td>\n",
       "      <td>4.99</td>\n",
       "      <td>Sacada</td>\n",
       "      <td>733530</td>\n",
       "    </tr>\n",
       "    <tr>\n",
       "      <th>120442</th>\n",
       "      <td>Indie, Racing, Simulation</td>\n",
       "      <td>2018-01-04</td>\n",
       "      <td>1.99</td>\n",
       "      <td>Laush Dmitriy Sergeevich</td>\n",
       "      <td>610660</td>\n",
       "    </tr>\n",
       "    <tr>\n",
       "      <th>120443</th>\n",
       "      <td>Casual, Indie</td>\n",
       "      <td>2017-09-02</td>\n",
       "      <td>4.99</td>\n",
       "      <td>xropi,stev3ns</td>\n",
       "      <td>658870</td>\n",
       "    </tr>\n",
       "  </tbody>\n",
       "</table>\n",
       "<p>28533 rows × 5 columns</p>\n",
       "</div>"
      ],
      "text/plain": [
       "                                                 genres release_date  price  \\\n",
       "88310       Action, Casual, Indie, Simulation, Strategy   2018-01-04   4.99   \n",
       "88311                Free to Play, Indie, RPG, Strategy   2018-01-04   0.00   \n",
       "88312   Casual, Free to Play, Indie, Simulation, Sports   2017-07-24   0.00   \n",
       "88313                         Action, Adventure, Casual   2017-12-07   0.99   \n",
       "88315                     Action, Adventure, Simulation   2018-01-04   3.99   \n",
       "...                                                 ...          ...    ...   \n",
       "120439                 Action, Adventure, Casual, Indie   2018-01-04   1.99   \n",
       "120440              Casual, Indie, Simulation, Strategy   2018-01-04   1.99   \n",
       "120441                          Casual, Indie, Strategy   2018-01-04   4.99   \n",
       "120442                        Indie, Racing, Simulation   2018-01-04   1.99   \n",
       "120443                                    Casual, Indie   2017-09-02   4.99   \n",
       "\n",
       "                       developer      id  \n",
       "88310                  Kotoshiro  761140  \n",
       "88311           Secret Level SRL  643980  \n",
       "88312               Poolians.com  670290  \n",
       "88313                    Unknown  767400  \n",
       "88315        Trickjump Games Ltd  772540  \n",
       "...                          ...     ...  \n",
       "120439           Bidoniera Games  745400  \n",
       "120440        Nikita \"Ghost_RUS\"  773640  \n",
       "120441                    Sacada  733530  \n",
       "120442  Laush Dmitriy Sergeevich  610660  \n",
       "120443             xropi,stev3ns  658870  \n",
       "\n",
       "[28533 rows x 5 columns]"
      ]
     },
     "execution_count": 56,
     "metadata": {},
     "output_type": "execute_result"
    }
   ],
   "source": [
    "df_games_copia"
   ]
  },
  {
   "cell_type": "code",
   "execution_count": 57,
   "metadata": {},
   "outputs": [
    {
     "name": "stdout",
     "output_type": "stream",
     "text": [
      "<class 'pandas.core.frame.DataFrame'>\n",
      "Index: 28533 entries, 88310 to 120443\n",
      "Data columns (total 5 columns):\n",
      " #   Column        Non-Null Count  Dtype         \n",
      "---  ------        --------------  -----         \n",
      " 0   genres        28533 non-null  object        \n",
      " 1   release_date  28533 non-null  datetime64[ns]\n",
      " 2   price         28533 non-null  float64       \n",
      " 3   developer     28533 non-null  object        \n",
      " 4   id            28533 non-null  object        \n",
      "dtypes: datetime64[ns](1), float64(1), object(3)\n",
      "memory usage: 1.3+ MB\n"
     ]
    }
   ],
   "source": [
    "df_games_copia.info()"
   ]
  },
  {
   "cell_type": "markdown",
   "metadata": {},
   "source": [
    "Terminamos la limpieza"
   ]
  },
  {
   "cell_type": "markdown",
   "metadata": {},
   "source": [
    "Lo guardamos como archivo parques"
   ]
  },
  {
   "cell_type": "code",
   "execution_count": 58,
   "metadata": {},
   "outputs": [],
   "source": [
    "df_games_copia.to_pickle('games.pkl')\n",
    "\n"
   ]
  },
  {
   "cell_type": "code",
   "execution_count": 62,
   "metadata": {},
   "outputs": [
    {
     "name": "stdout",
     "output_type": "stream",
     "text": [
      "<class 'pandas.core.frame.DataFrame'>\n",
      "Index: 28533 entries, 88310 to 120443\n",
      "Data columns (total 5 columns):\n",
      " #   Column        Non-Null Count  Dtype         \n",
      "---  ------        --------------  -----         \n",
      " 0   genres        28533 non-null  object        \n",
      " 1   release_date  28533 non-null  datetime64[ns]\n",
      " 2   price         28533 non-null  float64       \n",
      " 3   developer     28533 non-null  object        \n",
      " 4   id            28533 non-null  object        \n",
      "dtypes: datetime64[ns](1), float64(1), object(3)\n",
      "memory usage: 1.3+ MB\n"
     ]
    }
   ],
   "source": [
    "df_games.info()"
   ]
  },
  {
   "cell_type": "markdown",
   "metadata": {},
   "source": [
    "# Probamos las funciones"
   ]
  },
  {
   "cell_type": "code",
   "execution_count": 3,
   "metadata": {},
   "outputs": [],
   "source": [
    "# Importar el archivo 'reviews.pkl' en formato Pickle\n",
    "df_reviews = pd.read_pickle('reviews.pkl')\n",
    "\n",
    "# Importar el archivo 'items.pkl' en formato Pickle\n",
    "df_items = pd.read_pickle('playtime.pkl')\n",
    "\n",
    "# Importar el archivo 'games.pkl' en formato Pickle\n",
    "df_games = pd.read_pickle('games.pkl')\n",
    "\n",
    "\n"
   ]
  },
  {
   "cell_type": "code",
   "execution_count": 5,
   "metadata": {},
   "outputs": [
    {
     "ename": "KeyError",
     "evalue": "'item_id'",
     "output_type": "error",
     "traceback": [
      "\u001b[1;31m---------------------------------------------------------------------------\u001b[0m",
      "\u001b[1;31mKeyError\u001b[0m                                  Traceback (most recent call last)",
      "File \u001b[1;32m~\\AppData\\Local\\Packages\\PythonSoftwareFoundation.Python.3.10_qbz5n2kfra8p0\\LocalCache\\local-packages\\Python310\\site-packages\\pandas\\core\\indexes\\base.py:3790\u001b[0m, in \u001b[0;36mIndex.get_loc\u001b[1;34m(self, key)\u001b[0m\n\u001b[0;32m   3789\u001b[0m \u001b[39mtry\u001b[39;00m:\n\u001b[1;32m-> 3790\u001b[0m     \u001b[39mreturn\u001b[39;00m \u001b[39mself\u001b[39;49m\u001b[39m.\u001b[39;49m_engine\u001b[39m.\u001b[39;49mget_loc(casted_key)\n\u001b[0;32m   3791\u001b[0m \u001b[39mexcept\u001b[39;00m \u001b[39mKeyError\u001b[39;00m \u001b[39mas\u001b[39;00m err:\n",
      "File \u001b[1;32mindex.pyx:152\u001b[0m, in \u001b[0;36mpandas._libs.index.IndexEngine.get_loc\u001b[1;34m()\u001b[0m\n",
      "File \u001b[1;32mindex.pyx:181\u001b[0m, in \u001b[0;36mpandas._libs.index.IndexEngine.get_loc\u001b[1;34m()\u001b[0m\n",
      "File \u001b[1;32mpandas\\_libs\\hashtable_class_helper.pxi:7080\u001b[0m, in \u001b[0;36mpandas._libs.hashtable.PyObjectHashTable.get_item\u001b[1;34m()\u001b[0m\n",
      "File \u001b[1;32mpandas\\_libs\\hashtable_class_helper.pxi:7088\u001b[0m, in \u001b[0;36mpandas._libs.hashtable.PyObjectHashTable.get_item\u001b[1;34m()\u001b[0m\n",
      "\u001b[1;31mKeyError\u001b[0m: 'item_id'",
      "\nThe above exception was the direct cause of the following exception:\n",
      "\u001b[1;31mKeyError\u001b[0m                                  Traceback (most recent call last)",
      "Cell \u001b[1;32mIn[5], line 24\u001b[0m\n\u001b[0;32m     22\u001b[0m \u001b[39m# Llamar a la función para un usuario en particular (reemplaza 'user_id' con el ID del usuario deseado)\u001b[39;00m\n\u001b[0;32m     23\u001b[0m user_id \u001b[39m=\u001b[39m \u001b[39m'\u001b[39m\u001b[39m76561197970982479\u001b[39m\u001b[39m'\u001b[39m  \u001b[39m# Reemplaza con el ID de usuario deseado\u001b[39;00m\n\u001b[1;32m---> 24\u001b[0m money_spent, recommendation_percentage, total_items_reviewed \u001b[39m=\u001b[39m userdata(user_id)\n\u001b[0;32m     26\u001b[0m \u001b[39m# Imprimir los resultados\u001b[39;00m\n\u001b[0;32m     27\u001b[0m \u001b[39mprint\u001b[39m(\u001b[39mf\u001b[39m\u001b[39m\"\u001b[39m\u001b[39mUsuario \u001b[39m\u001b[39m{\u001b[39;00muser_id\u001b[39m}\u001b[39;00m\u001b[39m:\u001b[39m\u001b[39m\"\u001b[39m)\n",
      "Cell \u001b[1;32mIn[5], line 10\u001b[0m, in \u001b[0;36muserdata\u001b[1;34m(user_id)\u001b[0m\n\u001b[0;32m      7\u001b[0m     \u001b[39mreturn\u001b[39;00m \u001b[39m0\u001b[39m, \u001b[39m0\u001b[39m, \u001b[39m0\u001b[39m\n\u001b[0;32m      9\u001b[0m \u001b[39m# Calcular la cantidad de dinero gastado por el usuario\u001b[39;00m\n\u001b[1;32m---> 10\u001b[0m money_spent \u001b[39m=\u001b[39m user_reviews[\u001b[39m'\u001b[39;49m\u001b[39mitem_id\u001b[39;49m\u001b[39m'\u001b[39;49m]\u001b[39m.\u001b[39;49mapply(\u001b[39mlambda\u001b[39;49;00m x: df_items[df_items[\u001b[39m'\u001b[39;49m\u001b[39mitem_id\u001b[39;49m\u001b[39m'\u001b[39;49m] \u001b[39m==\u001b[39;49m x][\u001b[39m'\u001b[39;49m\u001b[39mprice\u001b[39;49m\u001b[39m'\u001b[39;49m]\u001b[39m.\u001b[39;49mvalues[\u001b[39m0\u001b[39;49m])\u001b[39m.\u001b[39msum()\n\u001b[0;32m     12\u001b[0m \u001b[39m# Calcular el porcentaje de recomendación en base a las revisiones\u001b[39;00m\n\u001b[0;32m     13\u001b[0m total_reviews \u001b[39m=\u001b[39m \u001b[39mlen\u001b[39m(user_reviews)\n",
      "File \u001b[1;32m~\\AppData\\Local\\Packages\\PythonSoftwareFoundation.Python.3.10_qbz5n2kfra8p0\\LocalCache\\local-packages\\Python310\\site-packages\\pandas\\core\\series.py:4765\u001b[0m, in \u001b[0;36mSeries.apply\u001b[1;34m(self, func, convert_dtype, args, by_row, **kwargs)\u001b[0m\n\u001b[0;32m   4625\u001b[0m \u001b[39mdef\u001b[39;00m \u001b[39mapply\u001b[39m(\n\u001b[0;32m   4626\u001b[0m     \u001b[39mself\u001b[39m,\n\u001b[0;32m   4627\u001b[0m     func: AggFuncType,\n\u001b[1;32m   (...)\u001b[0m\n\u001b[0;32m   4632\u001b[0m     \u001b[39m*\u001b[39m\u001b[39m*\u001b[39mkwargs,\n\u001b[0;32m   4633\u001b[0m ) \u001b[39m-\u001b[39m\u001b[39m>\u001b[39m DataFrame \u001b[39m|\u001b[39m Series:\n\u001b[0;32m   4634\u001b[0m \u001b[39m    \u001b[39m\u001b[39m\"\"\"\u001b[39;00m\n\u001b[0;32m   4635\u001b[0m \u001b[39m    Invoke function on values of Series.\u001b[39;00m\n\u001b[0;32m   4636\u001b[0m \n\u001b[1;32m   (...)\u001b[0m\n\u001b[0;32m   4756\u001b[0m \u001b[39m    dtype: float64\u001b[39;00m\n\u001b[0;32m   4757\u001b[0m \u001b[39m    \"\"\"\u001b[39;00m\n\u001b[0;32m   4758\u001b[0m     \u001b[39mreturn\u001b[39;00m SeriesApply(\n\u001b[0;32m   4759\u001b[0m         \u001b[39mself\u001b[39;49m,\n\u001b[0;32m   4760\u001b[0m         func,\n\u001b[0;32m   4761\u001b[0m         convert_dtype\u001b[39m=\u001b[39;49mconvert_dtype,\n\u001b[0;32m   4762\u001b[0m         by_row\u001b[39m=\u001b[39;49mby_row,\n\u001b[0;32m   4763\u001b[0m         args\u001b[39m=\u001b[39;49margs,\n\u001b[0;32m   4764\u001b[0m         kwargs\u001b[39m=\u001b[39;49mkwargs,\n\u001b[1;32m-> 4765\u001b[0m     )\u001b[39m.\u001b[39;49mapply()\n",
      "File \u001b[1;32m~\\AppData\\Local\\Packages\\PythonSoftwareFoundation.Python.3.10_qbz5n2kfra8p0\\LocalCache\\local-packages\\Python310\\site-packages\\pandas\\core\\apply.py:1201\u001b[0m, in \u001b[0;36mSeriesApply.apply\u001b[1;34m(self)\u001b[0m\n\u001b[0;32m   1198\u001b[0m     \u001b[39mreturn\u001b[39;00m \u001b[39mself\u001b[39m\u001b[39m.\u001b[39mapply_compat()\n\u001b[0;32m   1200\u001b[0m \u001b[39m# self.func is Callable\u001b[39;00m\n\u001b[1;32m-> 1201\u001b[0m \u001b[39mreturn\u001b[39;00m \u001b[39mself\u001b[39;49m\u001b[39m.\u001b[39;49mapply_standard()\n",
      "File \u001b[1;32m~\\AppData\\Local\\Packages\\PythonSoftwareFoundation.Python.3.10_qbz5n2kfra8p0\\LocalCache\\local-packages\\Python310\\site-packages\\pandas\\core\\apply.py:1281\u001b[0m, in \u001b[0;36mSeriesApply.apply_standard\u001b[1;34m(self)\u001b[0m\n\u001b[0;32m   1275\u001b[0m \u001b[39m# row-wise access\u001b[39;00m\n\u001b[0;32m   1276\u001b[0m \u001b[39m# apply doesn't have a `na_action` keyword and for backward compat reasons\u001b[39;00m\n\u001b[0;32m   1277\u001b[0m \u001b[39m# we need to give `na_action=\"ignore\"` for categorical data.\u001b[39;00m\n\u001b[0;32m   1278\u001b[0m \u001b[39m# TODO: remove the `na_action=\"ignore\"` when that default has been changed in\u001b[39;00m\n\u001b[0;32m   1279\u001b[0m \u001b[39m#  Categorical (GH51645).\u001b[39;00m\n\u001b[0;32m   1280\u001b[0m action \u001b[39m=\u001b[39m \u001b[39m\"\u001b[39m\u001b[39mignore\u001b[39m\u001b[39m\"\u001b[39m \u001b[39mif\u001b[39;00m \u001b[39misinstance\u001b[39m(obj\u001b[39m.\u001b[39mdtype, CategoricalDtype) \u001b[39melse\u001b[39;00m \u001b[39mNone\u001b[39;00m\n\u001b[1;32m-> 1281\u001b[0m mapped \u001b[39m=\u001b[39m obj\u001b[39m.\u001b[39;49m_map_values(\n\u001b[0;32m   1282\u001b[0m     mapper\u001b[39m=\u001b[39;49mcurried, na_action\u001b[39m=\u001b[39;49maction, convert\u001b[39m=\u001b[39;49m\u001b[39mself\u001b[39;49m\u001b[39m.\u001b[39;49mconvert_dtype\n\u001b[0;32m   1283\u001b[0m )\n\u001b[0;32m   1285\u001b[0m \u001b[39mif\u001b[39;00m \u001b[39mlen\u001b[39m(mapped) \u001b[39mand\u001b[39;00m \u001b[39misinstance\u001b[39m(mapped[\u001b[39m0\u001b[39m], ABCSeries):\n\u001b[0;32m   1286\u001b[0m     warnings\u001b[39m.\u001b[39mwarn(\n\u001b[0;32m   1287\u001b[0m         \u001b[39m\"\u001b[39m\u001b[39mReturning a DataFrame from Series.apply when the supplied function \u001b[39m\u001b[39m\"\u001b[39m\n\u001b[0;32m   1288\u001b[0m         \u001b[39m\"\u001b[39m\u001b[39mreturns a Series is deprecated and will be removed in a future \u001b[39m\u001b[39m\"\u001b[39m\n\u001b[1;32m   (...)\u001b[0m\n\u001b[0;32m   1291\u001b[0m         stacklevel\u001b[39m=\u001b[39mfind_stack_level(),\n\u001b[0;32m   1292\u001b[0m     )  \u001b[39m# GH52116\u001b[39;00m\n",
      "File \u001b[1;32m~\\AppData\\Local\\Packages\\PythonSoftwareFoundation.Python.3.10_qbz5n2kfra8p0\\LocalCache\\local-packages\\Python310\\site-packages\\pandas\\core\\base.py:921\u001b[0m, in \u001b[0;36mIndexOpsMixin._map_values\u001b[1;34m(self, mapper, na_action, convert)\u001b[0m\n\u001b[0;32m    918\u001b[0m \u001b[39mif\u001b[39;00m \u001b[39misinstance\u001b[39m(arr, ExtensionArray):\n\u001b[0;32m    919\u001b[0m     \u001b[39mreturn\u001b[39;00m arr\u001b[39m.\u001b[39mmap(mapper, na_action\u001b[39m=\u001b[39mna_action)\n\u001b[1;32m--> 921\u001b[0m \u001b[39mreturn\u001b[39;00m algorithms\u001b[39m.\u001b[39;49mmap_array(arr, mapper, na_action\u001b[39m=\u001b[39;49mna_action, convert\u001b[39m=\u001b[39;49mconvert)\n",
      "File \u001b[1;32m~\\AppData\\Local\\Packages\\PythonSoftwareFoundation.Python.3.10_qbz5n2kfra8p0\\LocalCache\\local-packages\\Python310\\site-packages\\pandas\\core\\algorithms.py:1812\u001b[0m, in \u001b[0;36mmap_array\u001b[1;34m(arr, mapper, na_action, convert)\u001b[0m\n\u001b[0;32m   1810\u001b[0m values \u001b[39m=\u001b[39m arr\u001b[39m.\u001b[39mastype(\u001b[39mobject\u001b[39m, copy\u001b[39m=\u001b[39m\u001b[39mFalse\u001b[39;00m)\n\u001b[0;32m   1811\u001b[0m \u001b[39mif\u001b[39;00m na_action \u001b[39mis\u001b[39;00m \u001b[39mNone\u001b[39;00m:\n\u001b[1;32m-> 1812\u001b[0m     \u001b[39mreturn\u001b[39;00m lib\u001b[39m.\u001b[39;49mmap_infer(values, mapper, convert\u001b[39m=\u001b[39;49mconvert)\n\u001b[0;32m   1813\u001b[0m \u001b[39melse\u001b[39;00m:\n\u001b[0;32m   1814\u001b[0m     \u001b[39mreturn\u001b[39;00m lib\u001b[39m.\u001b[39mmap_infer_mask(\n\u001b[0;32m   1815\u001b[0m         values, mapper, mask\u001b[39m=\u001b[39misna(values)\u001b[39m.\u001b[39mview(np\u001b[39m.\u001b[39muint8), convert\u001b[39m=\u001b[39mconvert\n\u001b[0;32m   1816\u001b[0m     )\n",
      "File \u001b[1;32mlib.pyx:2917\u001b[0m, in \u001b[0;36mpandas._libs.lib.map_infer\u001b[1;34m()\u001b[0m\n",
      "Cell \u001b[1;32mIn[5], line 10\u001b[0m, in \u001b[0;36muserdata.<locals>.<lambda>\u001b[1;34m(x)\u001b[0m\n\u001b[0;32m      7\u001b[0m     \u001b[39mreturn\u001b[39;00m \u001b[39m0\u001b[39m, \u001b[39m0\u001b[39m, \u001b[39m0\u001b[39m\n\u001b[0;32m      9\u001b[0m \u001b[39m# Calcular la cantidad de dinero gastado por el usuario\u001b[39;00m\n\u001b[1;32m---> 10\u001b[0m money_spent \u001b[39m=\u001b[39m user_reviews[\u001b[39m'\u001b[39m\u001b[39mitem_id\u001b[39m\u001b[39m'\u001b[39m]\u001b[39m.\u001b[39mapply(\u001b[39mlambda\u001b[39;00m x: df_items[df_items[\u001b[39m'\u001b[39;49m\u001b[39mitem_id\u001b[39;49m\u001b[39m'\u001b[39;49m] \u001b[39m==\u001b[39m x][\u001b[39m'\u001b[39m\u001b[39mprice\u001b[39m\u001b[39m'\u001b[39m]\u001b[39m.\u001b[39mvalues[\u001b[39m0\u001b[39m])\u001b[39m.\u001b[39msum()\n\u001b[0;32m     12\u001b[0m \u001b[39m# Calcular el porcentaje de recomendación en base a las revisiones\u001b[39;00m\n\u001b[0;32m     13\u001b[0m total_reviews \u001b[39m=\u001b[39m \u001b[39mlen\u001b[39m(user_reviews)\n",
      "File \u001b[1;32m~\\AppData\\Local\\Packages\\PythonSoftwareFoundation.Python.3.10_qbz5n2kfra8p0\\LocalCache\\local-packages\\Python310\\site-packages\\pandas\\core\\frame.py:3896\u001b[0m, in \u001b[0;36mDataFrame.__getitem__\u001b[1;34m(self, key)\u001b[0m\n\u001b[0;32m   3894\u001b[0m \u001b[39mif\u001b[39;00m \u001b[39mself\u001b[39m\u001b[39m.\u001b[39mcolumns\u001b[39m.\u001b[39mnlevels \u001b[39m>\u001b[39m \u001b[39m1\u001b[39m:\n\u001b[0;32m   3895\u001b[0m     \u001b[39mreturn\u001b[39;00m \u001b[39mself\u001b[39m\u001b[39m.\u001b[39m_getitem_multilevel(key)\n\u001b[1;32m-> 3896\u001b[0m indexer \u001b[39m=\u001b[39m \u001b[39mself\u001b[39;49m\u001b[39m.\u001b[39;49mcolumns\u001b[39m.\u001b[39;49mget_loc(key)\n\u001b[0;32m   3897\u001b[0m \u001b[39mif\u001b[39;00m is_integer(indexer):\n\u001b[0;32m   3898\u001b[0m     indexer \u001b[39m=\u001b[39m [indexer]\n",
      "File \u001b[1;32m~\\AppData\\Local\\Packages\\PythonSoftwareFoundation.Python.3.10_qbz5n2kfra8p0\\LocalCache\\local-packages\\Python310\\site-packages\\pandas\\core\\indexes\\base.py:3797\u001b[0m, in \u001b[0;36mIndex.get_loc\u001b[1;34m(self, key)\u001b[0m\n\u001b[0;32m   3792\u001b[0m     \u001b[39mif\u001b[39;00m \u001b[39misinstance\u001b[39m(casted_key, \u001b[39mslice\u001b[39m) \u001b[39mor\u001b[39;00m (\n\u001b[0;32m   3793\u001b[0m         \u001b[39misinstance\u001b[39m(casted_key, abc\u001b[39m.\u001b[39mIterable)\n\u001b[0;32m   3794\u001b[0m         \u001b[39mand\u001b[39;00m \u001b[39many\u001b[39m(\u001b[39misinstance\u001b[39m(x, \u001b[39mslice\u001b[39m) \u001b[39mfor\u001b[39;00m x \u001b[39min\u001b[39;00m casted_key)\n\u001b[0;32m   3795\u001b[0m     ):\n\u001b[0;32m   3796\u001b[0m         \u001b[39mraise\u001b[39;00m InvalidIndexError(key)\n\u001b[1;32m-> 3797\u001b[0m     \u001b[39mraise\u001b[39;00m \u001b[39mKeyError\u001b[39;00m(key) \u001b[39mfrom\u001b[39;00m \u001b[39merr\u001b[39;00m\n\u001b[0;32m   3798\u001b[0m \u001b[39mexcept\u001b[39;00m \u001b[39mTypeError\u001b[39;00m:\n\u001b[0;32m   3799\u001b[0m     \u001b[39m# If we have a listlike key, _check_indexing_error will raise\u001b[39;00m\n\u001b[0;32m   3800\u001b[0m     \u001b[39m#  InvalidIndexError. Otherwise we fall through and re-raise\u001b[39;00m\n\u001b[0;32m   3801\u001b[0m     \u001b[39m#  the TypeError.\u001b[39;00m\n\u001b[0;32m   3802\u001b[0m     \u001b[39mself\u001b[39m\u001b[39m.\u001b[39m_check_indexing_error(key)\n",
      "\u001b[1;31mKeyError\u001b[0m: 'item_id'"
     ]
    }
   ],
   "source": [
    "def userdata(user_id):\n",
    "    # Filtrar las revisiones del usuario en particular\n",
    "    user_reviews = df_reviews[df_reviews['user_id'] == user_id]\n",
    "\n",
    "    # Verificar si el usuario tiene revisiones\n",
    "    if user_reviews.empty:\n",
    "        return 0, 0, 0\n",
    "\n",
    "    # Calcular la cantidad de dinero gastado por el usuario\n",
    "    money_spent = user_reviews['item_id'].apply(lambda x: df_items[df_items['item_id'] == x]['price'].values[0]).sum()\n",
    "\n",
    "    # Calcular el porcentaje de recomendación en base a las revisiones\n",
    "    total_reviews = len(user_reviews)\n",
    "    positive_reviews = (user_reviews['recommend'] == 'True').sum()\n",
    "    recommendation_percentage = (positive_reviews / total_reviews) * 100\n",
    "\n",
    "    # Obtener la cantidad de elementos revisados\n",
    "    total_items_reviewed = total_reviews\n",
    "\n",
    "    return money_spent, recommendation_percentage, total_items_reviewed\n",
    "\n",
    "# Llamar a la función para un usuario en particular (reemplaza 'user_id' con el ID del usuario deseado)\n",
    "user_id = '76561197970982479'  # Reemplaza con el ID de usuario deseado\n",
    "money_spent, recommendation_percentage, total_items_reviewed = userdata(user_id)\n",
    "\n",
    "# Imprimir los resultados\n",
    "print(f\"Usuario {user_id}:\")\n",
    "print(f\"Dinero gastado: ${money_spent:.2f}\")\n",
    "print(f\"Porcentaje de recomendación: {recommendation_percentage:.2f}%\")\n",
    "print(f\"Total de elementos revisados: {total_items_reviewed}\")\n"
   ]
  },
  {
   "cell_type": "code",
   "execution_count": 4,
   "metadata": {},
   "outputs": [
    {
     "ename": "KeyError",
     "evalue": "'item_id'",
     "output_type": "error",
     "traceback": [
      "\u001b[1;31m---------------------------------------------------------------------------\u001b[0m",
      "\u001b[1;31mKeyError\u001b[0m                                  Traceback (most recent call last)",
      "File \u001b[1;32m~\\AppData\\Local\\Packages\\PythonSoftwareFoundation.Python.3.10_qbz5n2kfra8p0\\LocalCache\\local-packages\\Python310\\site-packages\\pandas\\core\\indexes\\base.py:3790\u001b[0m, in \u001b[0;36mIndex.get_loc\u001b[1;34m(self, key)\u001b[0m\n\u001b[0;32m   3789\u001b[0m \u001b[39mtry\u001b[39;00m:\n\u001b[1;32m-> 3790\u001b[0m     \u001b[39mreturn\u001b[39;00m \u001b[39mself\u001b[39;49m\u001b[39m.\u001b[39;49m_engine\u001b[39m.\u001b[39;49mget_loc(casted_key)\n\u001b[0;32m   3791\u001b[0m \u001b[39mexcept\u001b[39;00m \u001b[39mKeyError\u001b[39;00m \u001b[39mas\u001b[39;00m err:\n",
      "File \u001b[1;32mindex.pyx:152\u001b[0m, in \u001b[0;36mpandas._libs.index.IndexEngine.get_loc\u001b[1;34m()\u001b[0m\n",
      "File \u001b[1;32mindex.pyx:181\u001b[0m, in \u001b[0;36mpandas._libs.index.IndexEngine.get_loc\u001b[1;34m()\u001b[0m\n",
      "File \u001b[1;32mpandas\\_libs\\hashtable_class_helper.pxi:7080\u001b[0m, in \u001b[0;36mpandas._libs.hashtable.PyObjectHashTable.get_item\u001b[1;34m()\u001b[0m\n",
      "File \u001b[1;32mpandas\\_libs\\hashtable_class_helper.pxi:7088\u001b[0m, in \u001b[0;36mpandas._libs.hashtable.PyObjectHashTable.get_item\u001b[1;34m()\u001b[0m\n",
      "\u001b[1;31mKeyError\u001b[0m: 'item_id'",
      "\nThe above exception was the direct cause of the following exception:\n",
      "\u001b[1;31mKeyError\u001b[0m                                  Traceback (most recent call last)",
      "Cell \u001b[1;32mIn[4], line 23\u001b[0m\n\u001b[0;32m     21\u001b[0m \u001b[39m# Llamar a la función para un usuario en particular (reemplaza 'user_id' con el ID del usuario)\u001b[39;00m\n\u001b[0;32m     22\u001b[0m user_id \u001b[39m=\u001b[39m \u001b[39m'\u001b[39m\u001b[39m76561197970982479\u001b[39m\u001b[39m'\u001b[39m  \u001b[39m# Reemplaza '12345' con el ID de usuario deseado\u001b[39;00m\n\u001b[1;32m---> 23\u001b[0m money_spent, recommendation_percentage, total_items_reviewed \u001b[39m=\u001b[39m userdata(user_id, df_reviews, df_items)\n\u001b[0;32m     25\u001b[0m \u001b[39m# Imprimir los resultados\u001b[39;00m\n\u001b[0;32m     26\u001b[0m \u001b[39mprint\u001b[39m(\u001b[39mf\u001b[39m\u001b[39m\"\u001b[39m\u001b[39mUsuario \u001b[39m\u001b[39m{\u001b[39;00muser_id\u001b[39m}\u001b[39;00m\u001b[39m:\u001b[39m\u001b[39m\"\u001b[39m)\n",
      "Cell \u001b[1;32mIn[4], line 6\u001b[0m, in \u001b[0;36muserdata\u001b[1;34m(user_id, df_reviews, df_items)\u001b[0m\n\u001b[0;32m      3\u001b[0m user_reviews \u001b[39m=\u001b[39m df_reviews[df_reviews[\u001b[39m'\u001b[39m\u001b[39muser_id\u001b[39m\u001b[39m'\u001b[39m] \u001b[39m==\u001b[39m user_id]\n\u001b[0;32m      5\u001b[0m \u001b[39m# Calcular la cantidad de dinero gastado por el usuario\u001b[39;00m\n\u001b[1;32m----> 6\u001b[0m money_spent \u001b[39m=\u001b[39m user_reviews[\u001b[39m'\u001b[39;49m\u001b[39mitem_id\u001b[39;49m\u001b[39m'\u001b[39;49m]\u001b[39m.\u001b[39;49mapply(\u001b[39mlambda\u001b[39;49;00m x: df_items[df_items[\u001b[39m'\u001b[39;49m\u001b[39mitem_id\u001b[39;49m\u001b[39m'\u001b[39;49m] \u001b[39m==\u001b[39;49m x][\u001b[39m'\u001b[39;49m\u001b[39mprice\u001b[39;49m\u001b[39m'\u001b[39;49m]\u001b[39m.\u001b[39;49mvalues[\u001b[39m0\u001b[39;49m])\u001b[39m.\u001b[39msum()\n\u001b[0;32m      8\u001b[0m \u001b[39m# Calcular el porcentaje de recomendación en base a las revisiones\u001b[39;00m\n\u001b[0;32m      9\u001b[0m total_reviews \u001b[39m=\u001b[39m \u001b[39mlen\u001b[39m(user_reviews)\n",
      "File \u001b[1;32m~\\AppData\\Local\\Packages\\PythonSoftwareFoundation.Python.3.10_qbz5n2kfra8p0\\LocalCache\\local-packages\\Python310\\site-packages\\pandas\\core\\series.py:4765\u001b[0m, in \u001b[0;36mSeries.apply\u001b[1;34m(self, func, convert_dtype, args, by_row, **kwargs)\u001b[0m\n\u001b[0;32m   4625\u001b[0m \u001b[39mdef\u001b[39;00m \u001b[39mapply\u001b[39m(\n\u001b[0;32m   4626\u001b[0m     \u001b[39mself\u001b[39m,\n\u001b[0;32m   4627\u001b[0m     func: AggFuncType,\n\u001b[1;32m   (...)\u001b[0m\n\u001b[0;32m   4632\u001b[0m     \u001b[39m*\u001b[39m\u001b[39m*\u001b[39mkwargs,\n\u001b[0;32m   4633\u001b[0m ) \u001b[39m-\u001b[39m\u001b[39m>\u001b[39m DataFrame \u001b[39m|\u001b[39m Series:\n\u001b[0;32m   4634\u001b[0m \u001b[39m    \u001b[39m\u001b[39m\"\"\"\u001b[39;00m\n\u001b[0;32m   4635\u001b[0m \u001b[39m    Invoke function on values of Series.\u001b[39;00m\n\u001b[0;32m   4636\u001b[0m \n\u001b[1;32m   (...)\u001b[0m\n\u001b[0;32m   4756\u001b[0m \u001b[39m    dtype: float64\u001b[39;00m\n\u001b[0;32m   4757\u001b[0m \u001b[39m    \"\"\"\u001b[39;00m\n\u001b[0;32m   4758\u001b[0m     \u001b[39mreturn\u001b[39;00m SeriesApply(\n\u001b[0;32m   4759\u001b[0m         \u001b[39mself\u001b[39;49m,\n\u001b[0;32m   4760\u001b[0m         func,\n\u001b[0;32m   4761\u001b[0m         convert_dtype\u001b[39m=\u001b[39;49mconvert_dtype,\n\u001b[0;32m   4762\u001b[0m         by_row\u001b[39m=\u001b[39;49mby_row,\n\u001b[0;32m   4763\u001b[0m         args\u001b[39m=\u001b[39;49margs,\n\u001b[0;32m   4764\u001b[0m         kwargs\u001b[39m=\u001b[39;49mkwargs,\n\u001b[1;32m-> 4765\u001b[0m     )\u001b[39m.\u001b[39;49mapply()\n",
      "File \u001b[1;32m~\\AppData\\Local\\Packages\\PythonSoftwareFoundation.Python.3.10_qbz5n2kfra8p0\\LocalCache\\local-packages\\Python310\\site-packages\\pandas\\core\\apply.py:1201\u001b[0m, in \u001b[0;36mSeriesApply.apply\u001b[1;34m(self)\u001b[0m\n\u001b[0;32m   1198\u001b[0m     \u001b[39mreturn\u001b[39;00m \u001b[39mself\u001b[39m\u001b[39m.\u001b[39mapply_compat()\n\u001b[0;32m   1200\u001b[0m \u001b[39m# self.func is Callable\u001b[39;00m\n\u001b[1;32m-> 1201\u001b[0m \u001b[39mreturn\u001b[39;00m \u001b[39mself\u001b[39;49m\u001b[39m.\u001b[39;49mapply_standard()\n",
      "File \u001b[1;32m~\\AppData\\Local\\Packages\\PythonSoftwareFoundation.Python.3.10_qbz5n2kfra8p0\\LocalCache\\local-packages\\Python310\\site-packages\\pandas\\core\\apply.py:1281\u001b[0m, in \u001b[0;36mSeriesApply.apply_standard\u001b[1;34m(self)\u001b[0m\n\u001b[0;32m   1275\u001b[0m \u001b[39m# row-wise access\u001b[39;00m\n\u001b[0;32m   1276\u001b[0m \u001b[39m# apply doesn't have a `na_action` keyword and for backward compat reasons\u001b[39;00m\n\u001b[0;32m   1277\u001b[0m \u001b[39m# we need to give `na_action=\"ignore\"` for categorical data.\u001b[39;00m\n\u001b[0;32m   1278\u001b[0m \u001b[39m# TODO: remove the `na_action=\"ignore\"` when that default has been changed in\u001b[39;00m\n\u001b[0;32m   1279\u001b[0m \u001b[39m#  Categorical (GH51645).\u001b[39;00m\n\u001b[0;32m   1280\u001b[0m action \u001b[39m=\u001b[39m \u001b[39m\"\u001b[39m\u001b[39mignore\u001b[39m\u001b[39m\"\u001b[39m \u001b[39mif\u001b[39;00m \u001b[39misinstance\u001b[39m(obj\u001b[39m.\u001b[39mdtype, CategoricalDtype) \u001b[39melse\u001b[39;00m \u001b[39mNone\u001b[39;00m\n\u001b[1;32m-> 1281\u001b[0m mapped \u001b[39m=\u001b[39m obj\u001b[39m.\u001b[39;49m_map_values(\n\u001b[0;32m   1282\u001b[0m     mapper\u001b[39m=\u001b[39;49mcurried, na_action\u001b[39m=\u001b[39;49maction, convert\u001b[39m=\u001b[39;49m\u001b[39mself\u001b[39;49m\u001b[39m.\u001b[39;49mconvert_dtype\n\u001b[0;32m   1283\u001b[0m )\n\u001b[0;32m   1285\u001b[0m \u001b[39mif\u001b[39;00m \u001b[39mlen\u001b[39m(mapped) \u001b[39mand\u001b[39;00m \u001b[39misinstance\u001b[39m(mapped[\u001b[39m0\u001b[39m], ABCSeries):\n\u001b[0;32m   1286\u001b[0m     warnings\u001b[39m.\u001b[39mwarn(\n\u001b[0;32m   1287\u001b[0m         \u001b[39m\"\u001b[39m\u001b[39mReturning a DataFrame from Series.apply when the supplied function \u001b[39m\u001b[39m\"\u001b[39m\n\u001b[0;32m   1288\u001b[0m         \u001b[39m\"\u001b[39m\u001b[39mreturns a Series is deprecated and will be removed in a future \u001b[39m\u001b[39m\"\u001b[39m\n\u001b[1;32m   (...)\u001b[0m\n\u001b[0;32m   1291\u001b[0m         stacklevel\u001b[39m=\u001b[39mfind_stack_level(),\n\u001b[0;32m   1292\u001b[0m     )  \u001b[39m# GH52116\u001b[39;00m\n",
      "File \u001b[1;32m~\\AppData\\Local\\Packages\\PythonSoftwareFoundation.Python.3.10_qbz5n2kfra8p0\\LocalCache\\local-packages\\Python310\\site-packages\\pandas\\core\\base.py:921\u001b[0m, in \u001b[0;36mIndexOpsMixin._map_values\u001b[1;34m(self, mapper, na_action, convert)\u001b[0m\n\u001b[0;32m    918\u001b[0m \u001b[39mif\u001b[39;00m \u001b[39misinstance\u001b[39m(arr, ExtensionArray):\n\u001b[0;32m    919\u001b[0m     \u001b[39mreturn\u001b[39;00m arr\u001b[39m.\u001b[39mmap(mapper, na_action\u001b[39m=\u001b[39mna_action)\n\u001b[1;32m--> 921\u001b[0m \u001b[39mreturn\u001b[39;00m algorithms\u001b[39m.\u001b[39;49mmap_array(arr, mapper, na_action\u001b[39m=\u001b[39;49mna_action, convert\u001b[39m=\u001b[39;49mconvert)\n",
      "File \u001b[1;32m~\\AppData\\Local\\Packages\\PythonSoftwareFoundation.Python.3.10_qbz5n2kfra8p0\\LocalCache\\local-packages\\Python310\\site-packages\\pandas\\core\\algorithms.py:1812\u001b[0m, in \u001b[0;36mmap_array\u001b[1;34m(arr, mapper, na_action, convert)\u001b[0m\n\u001b[0;32m   1810\u001b[0m values \u001b[39m=\u001b[39m arr\u001b[39m.\u001b[39mastype(\u001b[39mobject\u001b[39m, copy\u001b[39m=\u001b[39m\u001b[39mFalse\u001b[39;00m)\n\u001b[0;32m   1811\u001b[0m \u001b[39mif\u001b[39;00m na_action \u001b[39mis\u001b[39;00m \u001b[39mNone\u001b[39;00m:\n\u001b[1;32m-> 1812\u001b[0m     \u001b[39mreturn\u001b[39;00m lib\u001b[39m.\u001b[39;49mmap_infer(values, mapper, convert\u001b[39m=\u001b[39;49mconvert)\n\u001b[0;32m   1813\u001b[0m \u001b[39melse\u001b[39;00m:\n\u001b[0;32m   1814\u001b[0m     \u001b[39mreturn\u001b[39;00m lib\u001b[39m.\u001b[39mmap_infer_mask(\n\u001b[0;32m   1815\u001b[0m         values, mapper, mask\u001b[39m=\u001b[39misna(values)\u001b[39m.\u001b[39mview(np\u001b[39m.\u001b[39muint8), convert\u001b[39m=\u001b[39mconvert\n\u001b[0;32m   1816\u001b[0m     )\n",
      "File \u001b[1;32mlib.pyx:2917\u001b[0m, in \u001b[0;36mpandas._libs.lib.map_infer\u001b[1;34m()\u001b[0m\n",
      "Cell \u001b[1;32mIn[4], line 6\u001b[0m, in \u001b[0;36muserdata.<locals>.<lambda>\u001b[1;34m(x)\u001b[0m\n\u001b[0;32m      3\u001b[0m user_reviews \u001b[39m=\u001b[39m df_reviews[df_reviews[\u001b[39m'\u001b[39m\u001b[39muser_id\u001b[39m\u001b[39m'\u001b[39m] \u001b[39m==\u001b[39m user_id]\n\u001b[0;32m      5\u001b[0m \u001b[39m# Calcular la cantidad de dinero gastado por el usuario\u001b[39;00m\n\u001b[1;32m----> 6\u001b[0m money_spent \u001b[39m=\u001b[39m user_reviews[\u001b[39m'\u001b[39m\u001b[39mitem_id\u001b[39m\u001b[39m'\u001b[39m]\u001b[39m.\u001b[39mapply(\u001b[39mlambda\u001b[39;00m x: df_items[df_items[\u001b[39m'\u001b[39;49m\u001b[39mitem_id\u001b[39;49m\u001b[39m'\u001b[39;49m] \u001b[39m==\u001b[39m x][\u001b[39m'\u001b[39m\u001b[39mprice\u001b[39m\u001b[39m'\u001b[39m]\u001b[39m.\u001b[39mvalues[\u001b[39m0\u001b[39m])\u001b[39m.\u001b[39msum()\n\u001b[0;32m      8\u001b[0m \u001b[39m# Calcular el porcentaje de recomendación en base a las revisiones\u001b[39;00m\n\u001b[0;32m      9\u001b[0m total_reviews \u001b[39m=\u001b[39m \u001b[39mlen\u001b[39m(user_reviews)\n",
      "File \u001b[1;32m~\\AppData\\Local\\Packages\\PythonSoftwareFoundation.Python.3.10_qbz5n2kfra8p0\\LocalCache\\local-packages\\Python310\\site-packages\\pandas\\core\\frame.py:3896\u001b[0m, in \u001b[0;36mDataFrame.__getitem__\u001b[1;34m(self, key)\u001b[0m\n\u001b[0;32m   3894\u001b[0m \u001b[39mif\u001b[39;00m \u001b[39mself\u001b[39m\u001b[39m.\u001b[39mcolumns\u001b[39m.\u001b[39mnlevels \u001b[39m>\u001b[39m \u001b[39m1\u001b[39m:\n\u001b[0;32m   3895\u001b[0m     \u001b[39mreturn\u001b[39;00m \u001b[39mself\u001b[39m\u001b[39m.\u001b[39m_getitem_multilevel(key)\n\u001b[1;32m-> 3896\u001b[0m indexer \u001b[39m=\u001b[39m \u001b[39mself\u001b[39;49m\u001b[39m.\u001b[39;49mcolumns\u001b[39m.\u001b[39;49mget_loc(key)\n\u001b[0;32m   3897\u001b[0m \u001b[39mif\u001b[39;00m is_integer(indexer):\n\u001b[0;32m   3898\u001b[0m     indexer \u001b[39m=\u001b[39m [indexer]\n",
      "File \u001b[1;32m~\\AppData\\Local\\Packages\\PythonSoftwareFoundation.Python.3.10_qbz5n2kfra8p0\\LocalCache\\local-packages\\Python310\\site-packages\\pandas\\core\\indexes\\base.py:3797\u001b[0m, in \u001b[0;36mIndex.get_loc\u001b[1;34m(self, key)\u001b[0m\n\u001b[0;32m   3792\u001b[0m     \u001b[39mif\u001b[39;00m \u001b[39misinstance\u001b[39m(casted_key, \u001b[39mslice\u001b[39m) \u001b[39mor\u001b[39;00m (\n\u001b[0;32m   3793\u001b[0m         \u001b[39misinstance\u001b[39m(casted_key, abc\u001b[39m.\u001b[39mIterable)\n\u001b[0;32m   3794\u001b[0m         \u001b[39mand\u001b[39;00m \u001b[39many\u001b[39m(\u001b[39misinstance\u001b[39m(x, \u001b[39mslice\u001b[39m) \u001b[39mfor\u001b[39;00m x \u001b[39min\u001b[39;00m casted_key)\n\u001b[0;32m   3795\u001b[0m     ):\n\u001b[0;32m   3796\u001b[0m         \u001b[39mraise\u001b[39;00m InvalidIndexError(key)\n\u001b[1;32m-> 3797\u001b[0m     \u001b[39mraise\u001b[39;00m \u001b[39mKeyError\u001b[39;00m(key) \u001b[39mfrom\u001b[39;00m \u001b[39merr\u001b[39;00m\n\u001b[0;32m   3798\u001b[0m \u001b[39mexcept\u001b[39;00m \u001b[39mTypeError\u001b[39;00m:\n\u001b[0;32m   3799\u001b[0m     \u001b[39m# If we have a listlike key, _check_indexing_error will raise\u001b[39;00m\n\u001b[0;32m   3800\u001b[0m     \u001b[39m#  InvalidIndexError. Otherwise we fall through and re-raise\u001b[39;00m\n\u001b[0;32m   3801\u001b[0m     \u001b[39m#  the TypeError.\u001b[39;00m\n\u001b[0;32m   3802\u001b[0m     \u001b[39mself\u001b[39m\u001b[39m.\u001b[39m_check_indexing_error(key)\n",
      "\u001b[1;31mKeyError\u001b[0m: 'item_id'"
     ]
    }
   ],
   "source": [
    "def userdata(user_id, df_reviews, df_items):\n",
    "    # Filtrar las revisiones del usuario en particular\n",
    "    user_reviews = df_reviews[df_reviews['user_id'] == user_id]\n",
    "\n",
    "    # Calcular la cantidad de dinero gastado por el usuario\n",
    "    money_spent = user_reviews['item_id'].apply(lambda x: df_items[df_items['item_id'] == x]['price'].values[0]).sum()\n",
    "\n",
    "    # Calcular el porcentaje de recomendación en base a las revisiones\n",
    "    total_reviews = len(user_reviews)\n",
    "    positive_reviews = (user_reviews['recommend'] == 'Recommended').sum()\n",
    "    if total_reviews > 0:\n",
    "        recommendation_percentage = (positive_reviews / total_reviews) * 100\n",
    "    else:\n",
    "        recommendation_percentage = 0\n",
    "\n",
    "    # Obtener la cantidad de elementos revisados\n",
    "    total_items_reviewed = total_reviews\n",
    "\n",
    "    return money_spent, recommendation_percentage, total_items_reviewed\n",
    "\n",
    "# Llamar a la función para un usuario en particular (reemplaza 'user_id' con el ID del usuario)\n",
    "user_id = '76561197970982479'  # Reemplaza '12345' con el ID de usuario deseado\n",
    "money_spent, recommendation_percentage, total_items_reviewed = userdata(user_id, df_reviews, df_items)\n",
    "\n",
    "# Imprimir los resultados\n",
    "print(f\"Usuario {user_id}:\")\n",
    "print(f\"Dinero gastado: ${money_spent:.2f}\")\n",
    "print(f\"Porcentaje de recomendación: {recommendation_percentage:.2f}%\")\n",
    "print(f\"Total de elementos revisados: {total_items_reviewed}\")\n",
    "\n"
   ]
  },
  {
   "cell_type": "markdown",
   "metadata": {},
   "source": [
    "Probamos userdata"
   ]
  },
  {
   "cell_type": "code",
   "execution_count": 71,
   "metadata": {},
   "outputs": [
    {
     "ename": "KeyError",
     "evalue": "'item_id'",
     "output_type": "error",
     "traceback": [
      "\u001b[1;31m---------------------------------------------------------------------------\u001b[0m",
      "\u001b[1;31mKeyError\u001b[0m                                  Traceback (most recent call last)",
      "File \u001b[1;32m~\\AppData\\Local\\Packages\\PythonSoftwareFoundation.Python.3.10_qbz5n2kfra8p0\\LocalCache\\local-packages\\Python310\\site-packages\\pandas\\core\\indexes\\base.py:3790\u001b[0m, in \u001b[0;36mIndex.get_loc\u001b[1;34m(self, key)\u001b[0m\n\u001b[0;32m   3789\u001b[0m \u001b[39mtry\u001b[39;00m:\n\u001b[1;32m-> 3790\u001b[0m     \u001b[39mreturn\u001b[39;00m \u001b[39mself\u001b[39;49m\u001b[39m.\u001b[39;49m_engine\u001b[39m.\u001b[39;49mget_loc(casted_key)\n\u001b[0;32m   3791\u001b[0m \u001b[39mexcept\u001b[39;00m \u001b[39mKeyError\u001b[39;00m \u001b[39mas\u001b[39;00m err:\n",
      "File \u001b[1;32mindex.pyx:152\u001b[0m, in \u001b[0;36mpandas._libs.index.IndexEngine.get_loc\u001b[1;34m()\u001b[0m\n",
      "File \u001b[1;32mindex.pyx:181\u001b[0m, in \u001b[0;36mpandas._libs.index.IndexEngine.get_loc\u001b[1;34m()\u001b[0m\n",
      "File \u001b[1;32mpandas\\_libs\\hashtable_class_helper.pxi:7080\u001b[0m, in \u001b[0;36mpandas._libs.hashtable.PyObjectHashTable.get_item\u001b[1;34m()\u001b[0m\n",
      "File \u001b[1;32mpandas\\_libs\\hashtable_class_helper.pxi:7088\u001b[0m, in \u001b[0;36mpandas._libs.hashtable.PyObjectHashTable.get_item\u001b[1;34m()\u001b[0m\n",
      "\u001b[1;31mKeyError\u001b[0m: 'item_id'",
      "\nThe above exception was the direct cause of the following exception:\n",
      "\u001b[1;31mKeyError\u001b[0m                                  Traceback (most recent call last)",
      "Cell \u001b[1;32mIn[71], line 3\u001b[0m\n\u001b[0;32m      1\u001b[0m \u001b[39m# Llama a la función para un usuario en particular (reemplaza 'user_id' con un ID de usuario existente en tus datos)\u001b[39;00m\n\u001b[0;32m      2\u001b[0m user_id \u001b[39m=\u001b[39m \u001b[39m'\u001b[39m\u001b[39m76561197970982479\u001b[39m\u001b[39m'\u001b[39m  \u001b[39m# Reemplaza con un ID de usuario válido\u001b[39;00m\n\u001b[1;32m----> 3\u001b[0m money_spent, recommendation_percentage, total_items_reviewed \u001b[39m=\u001b[39m userdata(user_id, df_reviews, df_items)\n\u001b[0;32m      5\u001b[0m \u001b[39m# Imprimir los resultados\u001b[39;00m\n\u001b[0;32m      6\u001b[0m \u001b[39mprint\u001b[39m(\u001b[39mf\u001b[39m\u001b[39m\"\u001b[39m\u001b[39mUsuario \u001b[39m\u001b[39m{\u001b[39;00muser_id\u001b[39m}\u001b[39;00m\u001b[39m:\u001b[39m\u001b[39m\"\u001b[39m)\n",
      "Cell \u001b[1;32mIn[70], line 6\u001b[0m, in \u001b[0;36muserdata\u001b[1;34m(user_id, df_reviews, df_items)\u001b[0m\n\u001b[0;32m      3\u001b[0m user_reviews \u001b[39m=\u001b[39m df_reviews[df_reviews[\u001b[39m'\u001b[39m\u001b[39muser_id\u001b[39m\u001b[39m'\u001b[39m] \u001b[39m==\u001b[39m user_id]\n\u001b[0;32m      5\u001b[0m \u001b[39m# Calcular la cantidad de dinero gastado por el usuario\u001b[39;00m\n\u001b[1;32m----> 6\u001b[0m money_spent \u001b[39m=\u001b[39m user_reviews[\u001b[39m'\u001b[39;49m\u001b[39mitem_id\u001b[39;49m\u001b[39m'\u001b[39;49m]\u001b[39m.\u001b[39;49mapply(\u001b[39mlambda\u001b[39;49;00m x: df_items[df_items[\u001b[39m'\u001b[39;49m\u001b[39mitem_id\u001b[39;49m\u001b[39m'\u001b[39;49m] \u001b[39m==\u001b[39;49m x][\u001b[39m'\u001b[39;49m\u001b[39mprice\u001b[39;49m\u001b[39m'\u001b[39;49m]\u001b[39m.\u001b[39;49mvalues[\u001b[39m0\u001b[39;49m])\u001b[39m.\u001b[39msum()\n\u001b[0;32m      8\u001b[0m \u001b[39m# Calcular el porcentaje de recomendación en base a las revisiones\u001b[39;00m\n\u001b[0;32m      9\u001b[0m total_reviews \u001b[39m=\u001b[39m \u001b[39mlen\u001b[39m(user_reviews)\n",
      "File \u001b[1;32m~\\AppData\\Local\\Packages\\PythonSoftwareFoundation.Python.3.10_qbz5n2kfra8p0\\LocalCache\\local-packages\\Python310\\site-packages\\pandas\\core\\series.py:4765\u001b[0m, in \u001b[0;36mSeries.apply\u001b[1;34m(self, func, convert_dtype, args, by_row, **kwargs)\u001b[0m\n\u001b[0;32m   4625\u001b[0m \u001b[39mdef\u001b[39;00m \u001b[39mapply\u001b[39m(\n\u001b[0;32m   4626\u001b[0m     \u001b[39mself\u001b[39m,\n\u001b[0;32m   4627\u001b[0m     func: AggFuncType,\n\u001b[1;32m   (...)\u001b[0m\n\u001b[0;32m   4632\u001b[0m     \u001b[39m*\u001b[39m\u001b[39m*\u001b[39mkwargs,\n\u001b[0;32m   4633\u001b[0m ) \u001b[39m-\u001b[39m\u001b[39m>\u001b[39m DataFrame \u001b[39m|\u001b[39m Series:\n\u001b[0;32m   4634\u001b[0m \u001b[39m    \u001b[39m\u001b[39m\"\"\"\u001b[39;00m\n\u001b[0;32m   4635\u001b[0m \u001b[39m    Invoke function on values of Series.\u001b[39;00m\n\u001b[0;32m   4636\u001b[0m \n\u001b[1;32m   (...)\u001b[0m\n\u001b[0;32m   4756\u001b[0m \u001b[39m    dtype: float64\u001b[39;00m\n\u001b[0;32m   4757\u001b[0m \u001b[39m    \"\"\"\u001b[39;00m\n\u001b[0;32m   4758\u001b[0m     \u001b[39mreturn\u001b[39;00m SeriesApply(\n\u001b[0;32m   4759\u001b[0m         \u001b[39mself\u001b[39;49m,\n\u001b[0;32m   4760\u001b[0m         func,\n\u001b[0;32m   4761\u001b[0m         convert_dtype\u001b[39m=\u001b[39;49mconvert_dtype,\n\u001b[0;32m   4762\u001b[0m         by_row\u001b[39m=\u001b[39;49mby_row,\n\u001b[0;32m   4763\u001b[0m         args\u001b[39m=\u001b[39;49margs,\n\u001b[0;32m   4764\u001b[0m         kwargs\u001b[39m=\u001b[39;49mkwargs,\n\u001b[1;32m-> 4765\u001b[0m     )\u001b[39m.\u001b[39;49mapply()\n",
      "File \u001b[1;32m~\\AppData\\Local\\Packages\\PythonSoftwareFoundation.Python.3.10_qbz5n2kfra8p0\\LocalCache\\local-packages\\Python310\\site-packages\\pandas\\core\\apply.py:1201\u001b[0m, in \u001b[0;36mSeriesApply.apply\u001b[1;34m(self)\u001b[0m\n\u001b[0;32m   1198\u001b[0m     \u001b[39mreturn\u001b[39;00m \u001b[39mself\u001b[39m\u001b[39m.\u001b[39mapply_compat()\n\u001b[0;32m   1200\u001b[0m \u001b[39m# self.func is Callable\u001b[39;00m\n\u001b[1;32m-> 1201\u001b[0m \u001b[39mreturn\u001b[39;00m \u001b[39mself\u001b[39;49m\u001b[39m.\u001b[39;49mapply_standard()\n",
      "File \u001b[1;32m~\\AppData\\Local\\Packages\\PythonSoftwareFoundation.Python.3.10_qbz5n2kfra8p0\\LocalCache\\local-packages\\Python310\\site-packages\\pandas\\core\\apply.py:1281\u001b[0m, in \u001b[0;36mSeriesApply.apply_standard\u001b[1;34m(self)\u001b[0m\n\u001b[0;32m   1275\u001b[0m \u001b[39m# row-wise access\u001b[39;00m\n\u001b[0;32m   1276\u001b[0m \u001b[39m# apply doesn't have a `na_action` keyword and for backward compat reasons\u001b[39;00m\n\u001b[0;32m   1277\u001b[0m \u001b[39m# we need to give `na_action=\"ignore\"` for categorical data.\u001b[39;00m\n\u001b[0;32m   1278\u001b[0m \u001b[39m# TODO: remove the `na_action=\"ignore\"` when that default has been changed in\u001b[39;00m\n\u001b[0;32m   1279\u001b[0m \u001b[39m#  Categorical (GH51645).\u001b[39;00m\n\u001b[0;32m   1280\u001b[0m action \u001b[39m=\u001b[39m \u001b[39m\"\u001b[39m\u001b[39mignore\u001b[39m\u001b[39m\"\u001b[39m \u001b[39mif\u001b[39;00m \u001b[39misinstance\u001b[39m(obj\u001b[39m.\u001b[39mdtype, CategoricalDtype) \u001b[39melse\u001b[39;00m \u001b[39mNone\u001b[39;00m\n\u001b[1;32m-> 1281\u001b[0m mapped \u001b[39m=\u001b[39m obj\u001b[39m.\u001b[39;49m_map_values(\n\u001b[0;32m   1282\u001b[0m     mapper\u001b[39m=\u001b[39;49mcurried, na_action\u001b[39m=\u001b[39;49maction, convert\u001b[39m=\u001b[39;49m\u001b[39mself\u001b[39;49m\u001b[39m.\u001b[39;49mconvert_dtype\n\u001b[0;32m   1283\u001b[0m )\n\u001b[0;32m   1285\u001b[0m \u001b[39mif\u001b[39;00m \u001b[39mlen\u001b[39m(mapped) \u001b[39mand\u001b[39;00m \u001b[39misinstance\u001b[39m(mapped[\u001b[39m0\u001b[39m], ABCSeries):\n\u001b[0;32m   1286\u001b[0m     warnings\u001b[39m.\u001b[39mwarn(\n\u001b[0;32m   1287\u001b[0m         \u001b[39m\"\u001b[39m\u001b[39mReturning a DataFrame from Series.apply when the supplied function \u001b[39m\u001b[39m\"\u001b[39m\n\u001b[0;32m   1288\u001b[0m         \u001b[39m\"\u001b[39m\u001b[39mreturns a Series is deprecated and will be removed in a future \u001b[39m\u001b[39m\"\u001b[39m\n\u001b[1;32m   (...)\u001b[0m\n\u001b[0;32m   1291\u001b[0m         stacklevel\u001b[39m=\u001b[39mfind_stack_level(),\n\u001b[0;32m   1292\u001b[0m     )  \u001b[39m# GH52116\u001b[39;00m\n",
      "File \u001b[1;32m~\\AppData\\Local\\Packages\\PythonSoftwareFoundation.Python.3.10_qbz5n2kfra8p0\\LocalCache\\local-packages\\Python310\\site-packages\\pandas\\core\\base.py:921\u001b[0m, in \u001b[0;36mIndexOpsMixin._map_values\u001b[1;34m(self, mapper, na_action, convert)\u001b[0m\n\u001b[0;32m    918\u001b[0m \u001b[39mif\u001b[39;00m \u001b[39misinstance\u001b[39m(arr, ExtensionArray):\n\u001b[0;32m    919\u001b[0m     \u001b[39mreturn\u001b[39;00m arr\u001b[39m.\u001b[39mmap(mapper, na_action\u001b[39m=\u001b[39mna_action)\n\u001b[1;32m--> 921\u001b[0m \u001b[39mreturn\u001b[39;00m algorithms\u001b[39m.\u001b[39;49mmap_array(arr, mapper, na_action\u001b[39m=\u001b[39;49mna_action, convert\u001b[39m=\u001b[39;49mconvert)\n",
      "File \u001b[1;32m~\\AppData\\Local\\Packages\\PythonSoftwareFoundation.Python.3.10_qbz5n2kfra8p0\\LocalCache\\local-packages\\Python310\\site-packages\\pandas\\core\\algorithms.py:1812\u001b[0m, in \u001b[0;36mmap_array\u001b[1;34m(arr, mapper, na_action, convert)\u001b[0m\n\u001b[0;32m   1810\u001b[0m values \u001b[39m=\u001b[39m arr\u001b[39m.\u001b[39mastype(\u001b[39mobject\u001b[39m, copy\u001b[39m=\u001b[39m\u001b[39mFalse\u001b[39;00m)\n\u001b[0;32m   1811\u001b[0m \u001b[39mif\u001b[39;00m na_action \u001b[39mis\u001b[39;00m \u001b[39mNone\u001b[39;00m:\n\u001b[1;32m-> 1812\u001b[0m     \u001b[39mreturn\u001b[39;00m lib\u001b[39m.\u001b[39;49mmap_infer(values, mapper, convert\u001b[39m=\u001b[39;49mconvert)\n\u001b[0;32m   1813\u001b[0m \u001b[39melse\u001b[39;00m:\n\u001b[0;32m   1814\u001b[0m     \u001b[39mreturn\u001b[39;00m lib\u001b[39m.\u001b[39mmap_infer_mask(\n\u001b[0;32m   1815\u001b[0m         values, mapper, mask\u001b[39m=\u001b[39misna(values)\u001b[39m.\u001b[39mview(np\u001b[39m.\u001b[39muint8), convert\u001b[39m=\u001b[39mconvert\n\u001b[0;32m   1816\u001b[0m     )\n",
      "File \u001b[1;32mlib.pyx:2917\u001b[0m, in \u001b[0;36mpandas._libs.lib.map_infer\u001b[1;34m()\u001b[0m\n",
      "Cell \u001b[1;32mIn[70], line 6\u001b[0m, in \u001b[0;36muserdata.<locals>.<lambda>\u001b[1;34m(x)\u001b[0m\n\u001b[0;32m      3\u001b[0m user_reviews \u001b[39m=\u001b[39m df_reviews[df_reviews[\u001b[39m'\u001b[39m\u001b[39muser_id\u001b[39m\u001b[39m'\u001b[39m] \u001b[39m==\u001b[39m user_id]\n\u001b[0;32m      5\u001b[0m \u001b[39m# Calcular la cantidad de dinero gastado por el usuario\u001b[39;00m\n\u001b[1;32m----> 6\u001b[0m money_spent \u001b[39m=\u001b[39m user_reviews[\u001b[39m'\u001b[39m\u001b[39mitem_id\u001b[39m\u001b[39m'\u001b[39m]\u001b[39m.\u001b[39mapply(\u001b[39mlambda\u001b[39;00m x: df_items[df_items[\u001b[39m'\u001b[39;49m\u001b[39mitem_id\u001b[39;49m\u001b[39m'\u001b[39;49m] \u001b[39m==\u001b[39m x][\u001b[39m'\u001b[39m\u001b[39mprice\u001b[39m\u001b[39m'\u001b[39m]\u001b[39m.\u001b[39mvalues[\u001b[39m0\u001b[39m])\u001b[39m.\u001b[39msum()\n\u001b[0;32m      8\u001b[0m \u001b[39m# Calcular el porcentaje de recomendación en base a las revisiones\u001b[39;00m\n\u001b[0;32m      9\u001b[0m total_reviews \u001b[39m=\u001b[39m \u001b[39mlen\u001b[39m(user_reviews)\n",
      "File \u001b[1;32m~\\AppData\\Local\\Packages\\PythonSoftwareFoundation.Python.3.10_qbz5n2kfra8p0\\LocalCache\\local-packages\\Python310\\site-packages\\pandas\\core\\frame.py:3896\u001b[0m, in \u001b[0;36mDataFrame.__getitem__\u001b[1;34m(self, key)\u001b[0m\n\u001b[0;32m   3894\u001b[0m \u001b[39mif\u001b[39;00m \u001b[39mself\u001b[39m\u001b[39m.\u001b[39mcolumns\u001b[39m.\u001b[39mnlevels \u001b[39m>\u001b[39m \u001b[39m1\u001b[39m:\n\u001b[0;32m   3895\u001b[0m     \u001b[39mreturn\u001b[39;00m \u001b[39mself\u001b[39m\u001b[39m.\u001b[39m_getitem_multilevel(key)\n\u001b[1;32m-> 3896\u001b[0m indexer \u001b[39m=\u001b[39m \u001b[39mself\u001b[39;49m\u001b[39m.\u001b[39;49mcolumns\u001b[39m.\u001b[39;49mget_loc(key)\n\u001b[0;32m   3897\u001b[0m \u001b[39mif\u001b[39;00m is_integer(indexer):\n\u001b[0;32m   3898\u001b[0m     indexer \u001b[39m=\u001b[39m [indexer]\n",
      "File \u001b[1;32m~\\AppData\\Local\\Packages\\PythonSoftwareFoundation.Python.3.10_qbz5n2kfra8p0\\LocalCache\\local-packages\\Python310\\site-packages\\pandas\\core\\indexes\\base.py:3797\u001b[0m, in \u001b[0;36mIndex.get_loc\u001b[1;34m(self, key)\u001b[0m\n\u001b[0;32m   3792\u001b[0m     \u001b[39mif\u001b[39;00m \u001b[39misinstance\u001b[39m(casted_key, \u001b[39mslice\u001b[39m) \u001b[39mor\u001b[39;00m (\n\u001b[0;32m   3793\u001b[0m         \u001b[39misinstance\u001b[39m(casted_key, abc\u001b[39m.\u001b[39mIterable)\n\u001b[0;32m   3794\u001b[0m         \u001b[39mand\u001b[39;00m \u001b[39many\u001b[39m(\u001b[39misinstance\u001b[39m(x, \u001b[39mslice\u001b[39m) \u001b[39mfor\u001b[39;00m x \u001b[39min\u001b[39;00m casted_key)\n\u001b[0;32m   3795\u001b[0m     ):\n\u001b[0;32m   3796\u001b[0m         \u001b[39mraise\u001b[39;00m InvalidIndexError(key)\n\u001b[1;32m-> 3797\u001b[0m     \u001b[39mraise\u001b[39;00m \u001b[39mKeyError\u001b[39;00m(key) \u001b[39mfrom\u001b[39;00m \u001b[39merr\u001b[39;00m\n\u001b[0;32m   3798\u001b[0m \u001b[39mexcept\u001b[39;00m \u001b[39mTypeError\u001b[39;00m:\n\u001b[0;32m   3799\u001b[0m     \u001b[39m# If we have a listlike key, _check_indexing_error will raise\u001b[39;00m\n\u001b[0;32m   3800\u001b[0m     \u001b[39m#  InvalidIndexError. Otherwise we fall through and re-raise\u001b[39;00m\n\u001b[0;32m   3801\u001b[0m     \u001b[39m#  the TypeError.\u001b[39;00m\n\u001b[0;32m   3802\u001b[0m     \u001b[39mself\u001b[39m\u001b[39m.\u001b[39m_check_indexing_error(key)\n",
      "\u001b[1;31mKeyError\u001b[0m: 'item_id'"
     ]
    }
   ],
   "source": [
    "# Llama a la función para un usuario en particular (reemplaza 'user_id' con un ID de usuario existente en tus datos)\n",
    "user_id = '76561197970982479'  # Reemplaza con un ID de usuario válido\n",
    "money_spent, recommendation_percentage, total_items_reviewed = userdata(user_id, df_reviews, df_items)\n",
    "\n",
    "# Imprimir los resultados\n",
    "print(f\"Usuario {user_id}:\")\n",
    "print(f\"Dinero gastado: ${money_spent:.2f}\")\n",
    "print(f\"Porcentaje de recomendación: {recommendation_percentage:.2f}%\")\n",
    "print(f\"Total de elementos revisados: {total_items_reviewed}\")\n"
   ]
  },
  {
   "cell_type": "code",
   "execution_count": null,
   "metadata": {},
   "outputs": [],
   "source": [
    "def users_reviews_between_dates(merged_df, start_date, end_date):\n",
    "    filtered_df = merge_df[(merged_df['posted'] == start_date) & (merged_df['posted'] == end_date)]\n",
    "    total_users = filtered_df['user_id'].nunique()\n",
    "    recommend_percentage = filtered_df['recommend_percentage']\n",
    "    return total_users, recommend_percentage"
   ]
  },
  {
   "cell_type": "code",
   "execution_count": null,
   "metadata": {},
   "outputs": [],
   "source": [
    "start_date = pd.to_datetime(start_date)\n",
    "    end_date = pd.to_datetime(end_date)\n",
    "    \n",
    "    # Filtrar las reviews entre las fechas dadas\n",
    "    filtered_reviews = reviews[(reviews['posted'] >= start_date) & (reviews['posted'] <= end_date)]\n",
    "    \n",
    "    # Calcular la cantidad de usuarios únicos que realizaron reviews en el período\n",
    "    unique_users = filtered_reviews['user_id'].nunique()\n",
    "    \n",
    "    # Calcular el porcentaje de recomendación\n",
    "    recommendation_percentage = (filtered_reviews['recommend'].sum() /"
   ]
  },
  {
   "cell_type": "code",
   "execution_count": null,
   "metadata": {},
   "outputs": [],
   "source": [
    "# Lista de columnas relevantes\n",
    "columnas_similares = ['genres', 'tags', 'specs']\n",
    "\n",
    "# Función para combinar listas en una cadena\n",
    "def combinar_listas(row):\n",
    "    combined = ' '.join(item for sublist in row if sublist for item in sublist)\n",
    "    return combined\n",
    "\n",
    "# Crear una nueva columna \"variables_juntas\" con las listas combinadas en cadenas\n",
    "df_sg_nec['variables_juntas'] = df_sg_nec[columnas_similares].apply(combinar_listas, axis=1)\n",
    "# Crear una matriz TF-IDF\n",
    "tfidf_vectorizer = TfidfVectorizer()\n",
    "tfidf_matrix = tfidf_vectorizer.fit_transform(df_sg_nec['variables_juntas'])"
   ]
  },
  {
   "cell_type": "code",
   "execution_count": null,
   "metadata": {},
   "outputs": [],
   "source": [
    "# Reducción de dimensionalidad con Truncated SVD\n",
    "num_components = 50  # Número de componentes a mantener\n",
    "svd = TruncatedSVD(n_components=num_components)\n",
    "svd_matrix = svd.fit_transform(tfidf_matrix)\n",
    "# Calcular la similitud de coseno en la matriz reducida\n",
    "cosine_sim_svd = cosine_similarity(svd_matrix, svd_matrix)"
   ]
  },
  {
   "cell_type": "code",
   "execution_count": null,
   "metadata": {},
   "outputs": [],
   "source": [
    "def sentiment_analysis(año: int):\n",
    "    # Unir los DataFrames en base a una columna común\n",
    "    df_merged = pd.merge(steam, reviews, left_on='item_id', right_on='item_id')\n",
    "\n",
    "    # Convierte 'releasedate' a datetime y extrae el año\n",
    "    df_merged['year'] = pd.to_datetime(df_merged['releasedate']).dt.year\n",
    "\n",
    "    # Filtra el DataFrame por el año dado\n",
    "    df_año = df_merged[df_merged['year'] == año]\n",
    "\n",
    "    # Cuenta las ocurrencias de cada sentimiento\n",
    "    conteo_sentimientos = df_año['sentiment_analysis'].valu"
   ]
  }
 ],
 "metadata": {
  "kernelspec": {
   "display_name": "venv",
   "language": "python",
   "name": "python3"
  },
  "language_info": {
   "codemirror_mode": {
    "name": "ipython",
    "version": 3
   },
   "file_extension": ".py",
   "mimetype": "text/x-python",
   "name": "python",
   "nbconvert_exporter": "python",
   "pygments_lexer": "ipython3",
   "version": "3.10.11"
  },
  "orig_nbformat": 4
 },
 "nbformat": 4,
 "nbformat_minor": 2
}
